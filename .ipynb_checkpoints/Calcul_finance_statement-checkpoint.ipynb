{
 "cells": [
  {
   "cell_type": "markdown",
   "metadata": {},
   "source": [
    "# 목표 PEIS점수 내기 & 안쓰는 기업년도 다 빼기"
   ]
  },
  {
   "cell_type": "markdown",
   "metadata": {},
   "source": [
    "# 필요 모듈"
   ]
  },
  {
   "cell_type": "code",
   "execution_count": 1,
   "metadata": {},
   "outputs": [],
   "source": [
    "import pandas as pd\n",
    "import numpy as np\n",
    "import warnings\n",
    "import matplotlib.pyplot as plt\n",
    "import seaborn as sns\n",
    "\n",
    "from Fin import *\n",
    "warnings.filterwarnings(action='ignore')"
   ]
  },
  {
   "cell_type": "markdown",
   "metadata": {},
   "source": [
    "# 0. 엑셀읽기"
   ]
  },
  {
   "cell_type": "markdown",
   "metadata": {},
   "source": [
    "# 1. 안쓰는거 (NULL값 20개 이상) 제거"
   ]
  },
  {
   "cell_type": "code",
   "execution_count": 6,
   "metadata": {},
   "outputs": [],
   "source": [
    "df = Cut20NullfillNA(df)"
   ]
  },
  {
   "cell_type": "markdown",
   "metadata": {},
   "source": [
    "# 2. PEIS를 구하기 위한 기초데이터들 연산해보기 \n",
    "## (한꺼번에 계산해서 앞년 뒷년버리기)"
   ]
  },
  {
   "cell_type": "code",
   "execution_count": 7,
   "metadata": {},
   "outputs": [],
   "source": [
    "PEISBaseData = CompuMoreData(df)\n",
    "PEISBaseData = setSGA(PEISBaseData)\n",
    "PEISBaseData.to_excel('temp/kospi/PEISBaseCompu.xlsx',index=False)"
   ]
  },
  {
   "cell_type": "markdown",
   "metadata": {},
   "source": [
    "# 3. Drop데이터들 Drop 시키기\n",
    "1. 회계년 08 09 20 21은 사용 불가능함 \n",
    "2. deltaprice 0 99 inf는 연산중에 나온 오류\n",
    "3. PEIS 점수 에러나는 것들은 좀 특이케이스도 있고 상폐전후로 생기는 에러가 있음 특이케이스는 얼마안대서 괜찮은듯"
   ]
  },
  {
   "cell_type": "code",
   "execution_count": 8,
   "metadata": {},
   "outputs": [
    {
     "name": "stdout",
     "output_type": "stream",
     "text": [
      "(7320, 52)\n"
     ]
    }
   ],
   "source": [
    "dropdata(PEISBaseData, '회계년', [2008, 2009, 2020, 2021])\n",
    "dropdata(PEISBaseData, 'deltaprice', [0, 99, np.inf])\n",
    "dropdata(PEISBaseData, 'deltaACC', [np.inf, -np.inf])\n",
    "dropdata(PEISBaseData, 'RNOA', [0]) # 그냥 연도 넘어가면서 이상해지는 것들 제거 \n",
    "dropdata(PEISBaseData, 'SGAp', [np.inf, -np.inf]) # 그냥 매출액이 0인 경우도 있음.. 이건 뭐 어쩌란건지 원 \n",
    "dropdata(PEISBaseData, 'deltaGM1', [np.inf, -np.inf]) # 그냥 매출액이 0인 경우도 있음.. 이건 뭐 어쩌란건지 원 \n",
    "print(PEISBaseData.shape)"
   ]
  },
  {
   "cell_type": "markdown",
   "metadata": {},
   "source": [
    "# 4. 가공된 데이터 토대로 +1,-1,0 구하기 (년도별로)"
   ]
  },
  {
   "cell_type": "code",
   "execution_count": 9,
   "metadata": {},
   "outputs": [
    {
     "data": {
      "text/plain": [
       "(7320, 59)"
      ]
     },
     "execution_count": 9,
     "metadata": {},
     "output_type": "execute_result"
    }
   ],
   "source": [
    "Yearlydfs = yearbaseDFs(PEISBaseData, years =[2010,2011,2012,2013,2014,2015,2016,2017,2018,2019])\n",
    "PEISBaseData = CalPEISpoints(Yearlydfs)\n",
    "PEISBaseData.shape"
   ]
  },
  {
   "cell_type": "markdown",
   "metadata": {},
   "source": [
    "# 5. PEIS 점수 구하기 (단순 행 sum)"
   ]
  },
  {
   "cell_type": "code",
   "execution_count": 10,
   "metadata": {},
   "outputs": [],
   "source": [
    "PEISBaseData = CalPEIS(PEISBaseData)"
   ]
  },
  {
   "cell_type": "markdown",
   "metadata": {},
   "source": [
    "# 6. 저장하기\n",
    "* PEIS,Stock 계산확인용 엑셀 하나 필요\n",
    "* 년도 적절한지 + 값이 정확히 계산되어있는지 특수케이스(중간 상폐,상장 정도만 확인하면 댈듯? 앞뒤년도 짜르고)"
   ]
  },
  {
   "cell_type": "code",
   "execution_count": 11,
   "metadata": {},
   "outputs": [],
   "source": [
    "PEISBaseData.to_excel('Data/kospi/Alldata.xlsx', index = False)"
   ]
  },
  {
   "cell_type": "markdown",
   "metadata": {},
   "source": [
    "#\n",
    "\n",
    "#\n",
    "\n",
    "#\n",
    "\n",
    "#\n",
    "\n",
    "#\n",
    "\n",
    "#\n",
    "\n",
    "# assert 공간 아래는 포트폴리오 부분에서 구현하는 게 좋을 것 같음 class랑 Stat은 따로 만드는게 좋을 듯 \n",
    "\n",
    "# 그리고 모든게 괜찮다고 판단되면 코스닥도 해줘야함"
   ]
  },
  {
   "cell_type": "code",
   "execution_count": 12,
   "metadata": {},
   "outputs": [],
   "source": [
    "test = PEISBaseData[['SGAdeltasale>0PEISpoint','SGAdeltasale<0PEISpoint','GNOAPEISpoint','deltaATOPEISpoint','deltaGMPEISpoint','deltaACCPEISpoint','RNOAPEISpoint']]!=0"
   ]
  },
  {
   "cell_type": "code",
   "execution_count": 13,
   "metadata": {},
   "outputs": [
    {
     "data": {
      "text/plain": [
       "SGAdeltasale>0PEISpoint    1840\n",
       "SGAdeltasale<0PEISpoint    1108\n",
       "GNOAPEISpoint              2936\n",
       "deltaATOPEISpoint          2936\n",
       "deltaGMPEISpoint           2936\n",
       "deltaACCPEISpoint          2936\n",
       "RNOAPEISpoint              2936\n",
       "dtype: int64"
      ]
     },
     "execution_count": 13,
     "metadata": {},
     "output_type": "execute_result"
    }
   ],
   "source": [
    "test.sum()"
   ]
  },
  {
   "cell_type": "markdown",
   "metadata": {},
   "source": [
    "# 코스닥"
   ]
  },
  {
   "cell_type": "markdown",
   "metadata": {},
   "source": [
    "# 0. 엑셀읽기"
   ]
  },
  {
   "cell_type": "code",
   "execution_count": 11,
   "metadata": {},
   "outputs": [],
   "source": [
    "df = pd.read_excel(\"Data/kosdaq/KosdaqPEISData&PriceData.xlsx\")"
   ]
  },
  {
   "cell_type": "markdown",
   "metadata": {},
   "source": [
    "# 1. 안쓰는거 (NULL값 20개 이상) 제거"
   ]
  },
  {
   "cell_type": "code",
   "execution_count": 12,
   "metadata": {},
   "outputs": [],
   "source": [
    "df = Cut20NullfillNA(df)"
   ]
  },
  {
   "cell_type": "markdown",
   "metadata": {},
   "source": [
    "# 2. PEIS를 구하기 위한 기초데이터들 연산해보기 \n",
    "## (한꺼번에 계산해서 앞년 뒷년버리기)"
   ]
  },
  {
   "cell_type": "code",
   "execution_count": 13,
   "metadata": {},
   "outputs": [],
   "source": [
    "PEISBaseData = CompuMoreData(df)\n",
    "PEISBaseData = setSGA(PEISBaseData)\n",
    "PEISBaseData.to_excel('temp/kosdaq/PEISBaseCompu.xlsx',index=False)"
   ]
  },
  {
   "cell_type": "code",
   "execution_count": 14,
   "metadata": {},
   "outputs": [
    {
     "data": {
      "text/html": [
       "<div>\n",
       "<style scoped>\n",
       "    .dataframe tbody tr th:only-of-type {\n",
       "        vertical-align: middle;\n",
       "    }\n",
       "\n",
       "    .dataframe tbody tr th {\n",
       "        vertical-align: top;\n",
       "    }\n",
       "\n",
       "    .dataframe thead th {\n",
       "        text-align: right;\n",
       "    }\n",
       "</style>\n",
       "<table border=\"1\" class=\"dataframe\">\n",
       "  <thead>\n",
       "    <tr style=\"text-align: right;\">\n",
       "      <th></th>\n",
       "      <th>consen_cut</th>\n",
       "      <th>CompuConsen</th>\n",
       "      <th>CountNull</th>\n",
       "      <th>NOA</th>\n",
       "      <th>AVGNOA</th>\n",
       "      <th>RNOA</th>\n",
       "      <th>GNOA</th>\n",
       "      <th>deltaACC</th>\n",
       "      <th>GM1</th>\n",
       "      <th>deltaGM1</th>\n",
       "      <th>deltasale</th>\n",
       "      <th>deltaGM</th>\n",
       "      <th>ATO</th>\n",
       "      <th>deltaATO</th>\n",
       "      <th>SGA</th>\n",
       "      <th>SGAp</th>\n",
       "      <th>deltaSGA</th>\n",
       "      <th>SGAdeltasale&gt;0</th>\n",
       "      <th>SGAdeltasale&lt;0</th>\n",
       "      <th>deltaearn</th>\n",
       "    </tr>\n",
       "  </thead>\n",
       "  <tbody>\n",
       "    <tr>\n",
       "      <th>count</th>\n",
       "      <td>18263.000000</td>\n",
       "      <td>18263.000000</td>\n",
       "      <td>18263.000000</td>\n",
       "      <td>1.826300e+04</td>\n",
       "      <td>1.826300e+04</td>\n",
       "      <td>1.826000e+04</td>\n",
       "      <td>18263.000000</td>\n",
       "      <td>1.826000e+04</td>\n",
       "      <td>1.826300e+04</td>\n",
       "      <td>1.822700e+04</td>\n",
       "      <td>1.822700e+04</td>\n",
       "      <td>1.820500e+04</td>\n",
       "      <td>18263.000000</td>\n",
       "      <td>18263.000000</td>\n",
       "      <td>1.826300e+04</td>\n",
       "      <td>1.825600e+04</td>\n",
       "      <td>1.821900e+04</td>\n",
       "      <td>1.825800e+04</td>\n",
       "      <td>1.826000e+04</td>\n",
       "      <td>18263.000000</td>\n",
       "    </tr>\n",
       "    <tr>\n",
       "      <th>mean</th>\n",
       "      <td>0.386793</td>\n",
       "      <td>1.902426</td>\n",
       "      <td>6.229590</td>\n",
       "      <td>6.520069e+07</td>\n",
       "      <td>5.888072e+07</td>\n",
       "      <td>NaN</td>\n",
       "      <td>-0.130073</td>\n",
       "      <td>NaN</td>\n",
       "      <td>2.984705e+07</td>\n",
       "      <td>NaN</td>\n",
       "      <td>inf</td>\n",
       "      <td>-inf</td>\n",
       "      <td>0.914693</td>\n",
       "      <td>0.069588</td>\n",
       "      <td>2.322594e+07</td>\n",
       "      <td>inf</td>\n",
       "      <td>NaN</td>\n",
       "      <td>-inf</td>\n",
       "      <td>inf</td>\n",
       "      <td>0.481849</td>\n",
       "    </tr>\n",
       "    <tr>\n",
       "      <th>std</th>\n",
       "      <td>0.999280</td>\n",
       "      <td>1.317060</td>\n",
       "      <td>0.610675</td>\n",
       "      <td>2.622831e+08</td>\n",
       "      <td>2.398057e+08</td>\n",
       "      <td>NaN</td>\n",
       "      <td>38.927650</td>\n",
       "      <td>NaN</td>\n",
       "      <td>9.860260e+07</td>\n",
       "      <td>NaN</td>\n",
       "      <td>NaN</td>\n",
       "      <td>NaN</td>\n",
       "      <td>1.293062</td>\n",
       "      <td>1.603421</td>\n",
       "      <td>8.681962e+07</td>\n",
       "      <td>NaN</td>\n",
       "      <td>NaN</td>\n",
       "      <td>NaN</td>\n",
       "      <td>NaN</td>\n",
       "      <td>0.499684</td>\n",
       "    </tr>\n",
       "    <tr>\n",
       "      <th>min</th>\n",
       "      <td>0.000000</td>\n",
       "      <td>1.000000</td>\n",
       "      <td>6.000000</td>\n",
       "      <td>-6.258136e+08</td>\n",
       "      <td>-6.202496e+08</td>\n",
       "      <td>-inf</td>\n",
       "      <td>-4523.191252</td>\n",
       "      <td>-inf</td>\n",
       "      <td>-1.662038e+08</td>\n",
       "      <td>-inf</td>\n",
       "      <td>-7.761032e+00</td>\n",
       "      <td>-inf</td>\n",
       "      <td>-0.216592</td>\n",
       "      <td>-104.360664</td>\n",
       "      <td>-7.336198e+06</td>\n",
       "      <td>-1.932855e+00</td>\n",
       "      <td>-inf</td>\n",
       "      <td>-inf</td>\n",
       "      <td>-9.241500e+01</td>\n",
       "      <td>0.000000</td>\n",
       "    </tr>\n",
       "    <tr>\n",
       "      <th>25%</th>\n",
       "      <td>0.000000</td>\n",
       "      <td>1.000000</td>\n",
       "      <td>6.000000</td>\n",
       "      <td>4.557505e+06</td>\n",
       "      <td>0.000000e+00</td>\n",
       "      <td>-1.196603e-01</td>\n",
       "      <td>-0.212878</td>\n",
       "      <td>-1.684384e-01</td>\n",
       "      <td>5.090763e+06</td>\n",
       "      <td>-1.505579e-01</td>\n",
       "      <td>-6.313407e-02</td>\n",
       "      <td>-1.383339e-01</td>\n",
       "      <td>0.398800</td>\n",
       "      <td>-0.127601</td>\n",
       "      <td>4.837107e+06</td>\n",
       "      <td>9.768315e-02</td>\n",
       "      <td>-1.677716e-02</td>\n",
       "      <td>-1.099978e-02</td>\n",
       "      <td>0.000000e+00</td>\n",
       "      <td>0.000000</td>\n",
       "    </tr>\n",
       "    <tr>\n",
       "      <th>50%</th>\n",
       "      <td>0.000000</td>\n",
       "      <td>1.000000</td>\n",
       "      <td>6.000000</td>\n",
       "      <td>2.104184e+07</td>\n",
       "      <td>1.704351e+07</td>\n",
       "      <td>6.171634e-02</td>\n",
       "      <td>0.000000</td>\n",
       "      <td>-1.508685e-02</td>\n",
       "      <td>1.223365e+07</td>\n",
       "      <td>1.558096e-02</td>\n",
       "      <td>3.597524e-02</td>\n",
       "      <td>0.000000e+00</td>\n",
       "      <td>0.773316</td>\n",
       "      <td>0.000000</td>\n",
       "      <td>9.606246e+06</td>\n",
       "      <td>1.802550e-01</td>\n",
       "      <td>0.000000e+00</td>\n",
       "      <td>0.000000e+00</td>\n",
       "      <td>0.000000e+00</td>\n",
       "      <td>0.000000</td>\n",
       "    </tr>\n",
       "    <tr>\n",
       "      <th>75%</th>\n",
       "      <td>0.000000</td>\n",
       "      <td>4.000000</td>\n",
       "      <td>6.000000</td>\n",
       "      <td>5.462396e+07</td>\n",
       "      <td>4.958377e+07</td>\n",
       "      <td>3.036261e-01</td>\n",
       "      <td>0.262332</td>\n",
       "      <td>1.550604e-01</td>\n",
       "      <td>2.737388e+07</td>\n",
       "      <td>2.710740e-01</td>\n",
       "      <td>2.163621e-01</td>\n",
       "      <td>9.417244e-02</td>\n",
       "      <td>1.210756</td>\n",
       "      <td>0.134961</td>\n",
       "      <td>1.992806e+07</td>\n",
       "      <td>3.755610e-01</td>\n",
       "      <td>2.352985e-02</td>\n",
       "      <td>0.000000e+00</td>\n",
       "      <td>3.301190e-03</td>\n",
       "      <td>1.000000</td>\n",
       "    </tr>\n",
       "    <tr>\n",
       "      <th>max</th>\n",
       "      <td>4.000000</td>\n",
       "      <td>4.000000</td>\n",
       "      <td>15.000000</td>\n",
       "      <td>9.265638e+09</td>\n",
       "      <td>8.020693e+09</td>\n",
       "      <td>inf</td>\n",
       "      <td>1152.962748</td>\n",
       "      <td>inf</td>\n",
       "      <td>3.713469e+09</td>\n",
       "      <td>inf</td>\n",
       "      <td>inf</td>\n",
       "      <td>4.664913e+03</td>\n",
       "      <td>104.848813</td>\n",
       "      <td>104.848813</td>\n",
       "      <td>3.482613e+09</td>\n",
       "      <td>inf</td>\n",
       "      <td>inf</td>\n",
       "      <td>1.069723e+01</td>\n",
       "      <td>inf</td>\n",
       "      <td>1.000000</td>\n",
       "    </tr>\n",
       "  </tbody>\n",
       "</table>\n",
       "</div>"
      ],
      "text/plain": [
       "         consen_cut   CompuConsen     CountNull           NOA        AVGNOA  \\\n",
       "count  18263.000000  18263.000000  18263.000000  1.826300e+04  1.826300e+04   \n",
       "mean       0.386793      1.902426      6.229590  6.520069e+07  5.888072e+07   \n",
       "std        0.999280      1.317060      0.610675  2.622831e+08  2.398057e+08   \n",
       "min        0.000000      1.000000      6.000000 -6.258136e+08 -6.202496e+08   \n",
       "25%        0.000000      1.000000      6.000000  4.557505e+06  0.000000e+00   \n",
       "50%        0.000000      1.000000      6.000000  2.104184e+07  1.704351e+07   \n",
       "75%        0.000000      4.000000      6.000000  5.462396e+07  4.958377e+07   \n",
       "max        4.000000      4.000000     15.000000  9.265638e+09  8.020693e+09   \n",
       "\n",
       "               RNOA          GNOA      deltaACC           GM1      deltaGM1  \\\n",
       "count  1.826000e+04  18263.000000  1.826000e+04  1.826300e+04  1.822700e+04   \n",
       "mean            NaN     -0.130073           NaN  2.984705e+07           NaN   \n",
       "std             NaN     38.927650           NaN  9.860260e+07           NaN   \n",
       "min            -inf  -4523.191252          -inf -1.662038e+08          -inf   \n",
       "25%   -1.196603e-01     -0.212878 -1.684384e-01  5.090763e+06 -1.505579e-01   \n",
       "50%    6.171634e-02      0.000000 -1.508685e-02  1.223365e+07  1.558096e-02   \n",
       "75%    3.036261e-01      0.262332  1.550604e-01  2.737388e+07  2.710740e-01   \n",
       "max             inf   1152.962748           inf  3.713469e+09           inf   \n",
       "\n",
       "          deltasale       deltaGM           ATO      deltaATO           SGA  \\\n",
       "count  1.822700e+04  1.820500e+04  18263.000000  18263.000000  1.826300e+04   \n",
       "mean            inf          -inf      0.914693      0.069588  2.322594e+07   \n",
       "std             NaN           NaN      1.293062      1.603421  8.681962e+07   \n",
       "min   -7.761032e+00          -inf     -0.216592   -104.360664 -7.336198e+06   \n",
       "25%   -6.313407e-02 -1.383339e-01      0.398800     -0.127601  4.837107e+06   \n",
       "50%    3.597524e-02  0.000000e+00      0.773316      0.000000  9.606246e+06   \n",
       "75%    2.163621e-01  9.417244e-02      1.210756      0.134961  1.992806e+07   \n",
       "max             inf  4.664913e+03    104.848813    104.848813  3.482613e+09   \n",
       "\n",
       "               SGAp      deltaSGA  SGAdeltasale>0  SGAdeltasale<0  \\\n",
       "count  1.825600e+04  1.821900e+04    1.825800e+04    1.826000e+04   \n",
       "mean            inf           NaN            -inf             inf   \n",
       "std             NaN           NaN             NaN             NaN   \n",
       "min   -1.932855e+00          -inf            -inf   -9.241500e+01   \n",
       "25%    9.768315e-02 -1.677716e-02   -1.099978e-02    0.000000e+00   \n",
       "50%    1.802550e-01  0.000000e+00    0.000000e+00    0.000000e+00   \n",
       "75%    3.755610e-01  2.352985e-02    0.000000e+00    3.301190e-03   \n",
       "max             inf           inf    1.069723e+01             inf   \n",
       "\n",
       "          deltaearn  \n",
       "count  18263.000000  \n",
       "mean       0.481849  \n",
       "std        0.499684  \n",
       "min        0.000000  \n",
       "25%        0.000000  \n",
       "50%        0.000000  \n",
       "75%        1.000000  \n",
       "max        1.000000  "
      ]
     },
     "execution_count": 14,
     "metadata": {},
     "output_type": "execute_result"
    }
   ],
   "source": [
    "PEISBaseData.describe().iloc[:,30:50]"
   ]
  },
  {
   "cell_type": "markdown",
   "metadata": {},
   "source": [
    "# 3. Drop데이터들 Drop 시키기\n",
    "1. 회계년 08 09 20 21은 사용 불가능함 \n",
    "2. deltaprice 0 99 inf는 연산중에 나온 오류\n",
    "3. PEIS 점수 에러나는 것들은 좀 특이케이스도 있고 상폐전후로 생기는 에러가 있음 특이케이스는 얼마안대서 괜찮은듯"
   ]
  },
  {
   "cell_type": "code",
   "execution_count": 15,
   "metadata": {},
   "outputs": [
    {
     "name": "stdout",
     "output_type": "stream",
     "text": [
      "(10970, 52)\n"
     ]
    }
   ],
   "source": [
    "dropdata(PEISBaseData, '회계년', [2008, 2009, 2020, 2021])\n",
    "dropdata(PEISBaseData, 'deltaprice', [0, 99, np.inf])\n",
    "dropdata(PEISBaseData, 'deltaACC', [np.inf, -np.inf])\n",
    "dropdata(PEISBaseData, 'RNOA', [0]) # 그냥 연도 넘어가면서 이상해지는 것들 제거 \n",
    "dropdata(PEISBaseData, 'SGAp', [np.inf, -np.inf]) # 그냥 매출액이 0인 경우도 있음.. 이건 뭐 어쩌란건지 원 \n",
    "dropdata(PEISBaseData, 'deltaGM1', [np.inf, -np.inf]) # 그냥 매출액이 0인 경우도 있음.. 이건 뭐 어쩌란건지 원 \n",
    "print(PEISBaseData.shape)"
   ]
  },
  {
   "cell_type": "markdown",
   "metadata": {},
   "source": [
    "# 4. 가공된 데이터 토대로 +1,-1,0 구하기 (년도별로)"
   ]
  },
  {
   "cell_type": "code",
   "execution_count": 16,
   "metadata": {},
   "outputs": [
    {
     "data": {
      "text/plain": [
       "(10970, 59)"
      ]
     },
     "execution_count": 16,
     "metadata": {},
     "output_type": "execute_result"
    }
   ],
   "source": [
    "Yearlydfs = yearbaseDFs(PEISBaseData, years =[2010,2011,2012,2013,2014,2015,2016,2017,2018,2019])\n",
    "PEISBaseData = CalPEISpoints(Yearlydfs)\n",
    "PEISBaseData.shape"
   ]
  },
  {
   "cell_type": "markdown",
   "metadata": {},
   "source": [
    "# 5. PEIS 점수 구하기 (단순 행 sum)"
   ]
  },
  {
   "cell_type": "code",
   "execution_count": 17,
   "metadata": {},
   "outputs": [],
   "source": [
    "PEISBaseData = CalPEIS(PEISBaseData)"
   ]
  },
  {
   "cell_type": "markdown",
   "metadata": {},
   "source": [
    "# 6. 저장하기\n",
    "* PEIS,Stock 계산확인용 엑셀 하나 필요\n",
    "* 년도 적절한지 + 값이 정확히 계산되어있는지 특수케이스(중간 상폐,상장 정도만 확인하면 댈듯? 앞뒤년도 짜르고)"
   ]
  },
  {
   "cell_type": "code",
   "execution_count": 18,
   "metadata": {},
   "outputs": [],
   "source": [
    "PEISBaseData.to_excel('Data/kosdaq/Alldata.xlsx', index = False)"
   ]
  },
  {
   "cell_type": "code",
   "execution_count": null,
   "metadata": {},
   "outputs": [],
   "source": []
  }
 ],
 "metadata": {
  "kernelspec": {
   "display_name": "Python 3",
   "language": "python",
   "name": "python3"
  },
  "language_info": {
   "codemirror_mode": {
    "name": "ipython",
    "version": 3
   },
   "file_extension": ".py",
   "mimetype": "text/x-python",
   "name": "python",
   "nbconvert_exporter": "python",
   "pygments_lexer": "ipython3",
   "version": "3.7.6"
  }
 },
 "nbformat": 4,
 "nbformat_minor": 4
}
