{
 "cells": [
  {
   "cell_type": "markdown",
   "metadata": {},
   "source": [
    "# 목표 : 수익률 PEIS점수테이블에 붙이기 "
   ]
  },
  {
   "cell_type": "markdown",
   "metadata": {},
   "source": [
    "# 흐름 (괄호는 코스닥만)\n",
    "1. 읽어들이기 \n",
    "2. 테이블 다중인덱스로 만들기 --> 편하게 하기위해서 --> PEIS 랑 똑같은 데이터 프레임형태\n",
    "2. 목표주가, 당시주가, 수정주가, 애널리스트등급, 시가총액 일자로 세워서 붙이기\n",
    "3. 수정주가 기준 수익률 계산해주기\n",
    "4. fillna 99 해서 수익률 없는거 99해주기 --> 나중에 지우기 쉽게하기위해 임의로 박아준거임\n",
    "* (코스닥) - \"스팩\" 데이터 제거하기 \n",
    "5. 목표주가랑 현재주가 기준 컨센 구하기 \n",
    "6. PEIS랑 주가데이터랑 결합해서 저장"
   ]
  },
  {
   "cell_type": "code",
   "execution_count": 1,
   "metadata": {},
   "outputs": [],
   "source": [
    "import pandas as pd\n",
    "import numpy as np\n",
    "import warnings\n",
    "from Fin import *\n",
    "warnings.filterwarnings(action='ignore')"
   ]
  },
  {
   "cell_type": "markdown",
   "metadata": {},
   "source": [
    "# 0. 파일불러들이기 붙여질 파일(PEIS) + 붙일 파일(price)\n",
    "*# 아시아나항공이랑 한섬은 stock 데이터에서 일부분이 빠져서 버림 이거 찾는데 1시간 반걸림 ㅋㅋ ~~~~~"
   ]
  },
  {
   "cell_type": "code",
   "execution_count": 2,
   "metadata": {},
   "outputs": [],
   "source": [
    "PEIS_table = pd.read_excel(\"Data/PEISdata.xlsx\",sheet_name = \"kospi_peis\")\n",
    "PROFIT_table = pd.read_excel(\"Data/PEISdata.xlsx\",sheet_name = \"kospi_stock\")"
   ]
  },
  {
   "cell_type": "markdown",
   "metadata": {},
   "source": [
    "## 1.기업별로 Match 시키기 위해서 PROFIT쪽에서 기업이름하고 티커 맞추기 --> 2번 상장경우가 존재\n"
   ]
  },
  {
   "cell_type": "code",
   "execution_count": 3,
   "metadata": {},
   "outputs": [],
   "source": [
    "PROFIT_com_name = PROFIT_table['Symbol Name'].tolist()\n",
    "PROFIT_com_symbol = PROFIT_table['Symbol'].tolist()\n",
    "PROFIT_namesymbol = []\n",
    "for i in range(len(PROFIT_com_name)):\n",
    "    PROFIT_namesymbol.append([PROFIT_com_name[i],PROFIT_com_symbol[i]]) # 사실 여기서 8로 나눴으면 좋았을텐데 속도 적으로 "
   ]
  },
  {
   "cell_type": "markdown",
   "metadata": {},
   "source": [
    "# 2. 양쪽에 불균형하게 존재하는 데이터제거 (상폐 때문인 듯) \n",
    "## 원컬럼으로 세웠을때 데이터 맞출려면 필수적"
   ]
  },
  {
   "cell_type": "code",
   "execution_count": 4,
   "metadata": {},
   "outputs": [],
   "source": [
    "# 그냥 뽑을때부터 데이터가 서로 불균형하게 뽑히는 경우가 존재 --> 어쩔 수 없이 제거 \n",
    "delistcom = set(PEIS_table['Name'].unique())-set(PROFIT_table['Symbol Name'].unique())\n",
    "dropdata(PEIS_table, 'Name', delistcom)\n",
    "Symbolindexcom = set(PEIS_table['Symbol'].unique())-set(PROFIT_table['Symbol'].unique())\n",
    "dropdata(PEIS_table, 'Symbol', Symbolindexcom)"
   ]
  },
  {
   "cell_type": "markdown",
   "metadata": {},
   "source": [
    "# 데이터 전처리 \n",
    "# 3. 주가랑 주가상승률, 애널리스트등급 행렬로 일자로 만들기"
   ]
  },
  {
   "cell_type": "code",
   "execution_count": 5,
   "metadata": {
    "scrolled": true
   },
   "outputs": [
    {
     "name": "stdout",
     "output_type": "stream",
     "text": [
      "(16282, 9) (16282, 23)\n"
     ]
    }
   ],
   "source": [
    "PROFIT_table = MakeLookGood(PROFIT_table, years = list(range(8,22))) # 새로 뽑으면 10 -> 8\n",
    "PROFIT_table = PROFIT_table.fillna(0)\n",
    "Onetable = MakeOnetable(PROFIT_table, ['수정주가(원)','투자의견점수 (E3)(포인트)','시가총액 (티커-상장예정주식수 포함)(백만원)','종가(원)','적정주가 (E3)(원)','PER(배)','PBR(배)','베타 (D,1Yr)'], ['ADJprice', 'Consensus','시가총액','Endprice','Targetprice','PER','PBR','BETA'])\n",
    "Onetable['deltaprice'] = Caldeltaprice(Onetable['ADJprice'])\n",
    "print(Onetable.shape, PEIS_table.shape)"
   ]
  },
  {
   "cell_type": "markdown",
   "metadata": {},
   "source": [
    "# 4.PEIS_table 기업별로 나누기 \n",
    "# +\n",
    "# 5. 기업별로 PEIS_STOCK data 맞추기_전체 합치기"
   ]
  },
  {
   "cell_type": "code",
   "execution_count": 6,
   "metadata": {},
   "outputs": [],
   "source": [
    "namebasedfs = namebaseDFs(PEIS_table)\n",
    "PEISSTOCK_com_base = concatPEIS_STOCK(namebasedfs, PROFIT_namesymbol, Onetable)\n",
    "Matchcompanybase = pd.concat(PEISSTOCK_com_base)\n",
    "Matchcompanybase['Targetprice'].fillna(-1,inplace = True) # 카테고리화 이전에 하긴 해야하네\n",
    "Matchcompanybase.reset_index(drop=True,inplace = True)\n",
    "Matchcompanybase.to_excel('temp/kospi/Matchcompany.xlsx')"
   ]
  },
  {
   "cell_type": "markdown",
   "metadata": {},
   "source": [
    "# 6 컨센 점수 가공 (제공 & 목표,종가 조합)"
   ]
  },
  {
   "cell_type": "code",
   "execution_count": 7,
   "metadata": {},
   "outputs": [],
   "source": [
    "consen_cut = pd.cut(Matchcompanybase['Consensus'],bins= [-0.1, 0, 2.5, 3.5, 4.5, 5], labels = [0,1,2,3,4])\n",
    "Matchcompanybase['consen_cut'] = consen_cut\n",
    "CompuConsen(Matchcompanybase)"
   ]
  },
  {
   "cell_type": "markdown",
   "metadata": {},
   "source": [
    "# 7. 스팩 제거 "
   ]
  },
  {
   "cell_type": "code",
   "execution_count": 8,
   "metadata": {},
   "outputs": [],
   "source": [
    "names = Matchcompanybase['Name']\n",
    "specindex = returnspecindex(names)\n",
    "Matchcompanybase.drop(specindex, inplace = True)\n",
    "Matchcompanybase.reset_index(drop = True, inplace = True)"
   ]
  },
  {
   "cell_type": "markdown",
   "metadata": {},
   "source": [
    "# 8. 저장하기"
   ]
  },
  {
   "cell_type": "code",
   "execution_count": 9,
   "metadata": {},
   "outputs": [],
   "source": [
    "Matchcompanybase.to_excel(\"Data/kospi/KospiPEISData&PriceData.xlsx\",index= False)"
   ]
  },
  {
   "cell_type": "markdown",
   "metadata": {},
   "source": [
    "#\n",
    "\n",
    "#\n",
    "\n",
    "#\n",
    "\n",
    "\n",
    "#\n",
    "\n",
    "#\n",
    "\n",
    "#\n",
    "\n",
    "#\n",
    "\n",
    "#\n",
    "\n",
    "#\n",
    "\n",
    "\n",
    "#\n",
    "\n",
    "# 코스닥 똑같이 만들기\n",
    "* 코스닥도 나중에 코스피랑 똑같은 전처리 과정에서 문제 없는지 확인해야함\n",
    "* 코스닥은 디엠티랑 한프 날림"
   ]
  },
  {
   "cell_type": "markdown",
   "metadata": {},
   "source": [
    "# 0. 파일불러들이기 붙여질 파일(PEIS) + 붙일 파일(price)\n",
    "*# 아시아나항공이랑 한섬은 stock 데이터에서 일부분이 빠져서 버림 이거 찾는데 1시간 반걸림 ㅋㅋ ~~~~~"
   ]
  },
  {
   "cell_type": "code",
   "execution_count": 10,
   "metadata": {},
   "outputs": [],
   "source": [
    "PEIS_table_kosdaq = pd.read_excel(\"Data/PEISdata.xlsx\",sheet_name = \"kosdaq_peis\")\n",
    "PROFIT_table_kosdaq = pd.read_excel(\"Data/PEISdata.xlsx\",sheet_name = \"kosdaq_stock\")"
   ]
  },
  {
   "cell_type": "markdown",
   "metadata": {},
   "source": [
    "## 1.기업별로 Match 시키기 위해서 PROFIT쪽에서 기업이름하고 티커 맞추기 --> 2번 상장경우가 존재\n"
   ]
  },
  {
   "cell_type": "code",
   "execution_count": 11,
   "metadata": {},
   "outputs": [],
   "source": [
    "PROFIT_com_name_kosdaq = PROFIT_table_kosdaq['Symbol Name'].tolist()\n",
    "PROFIT_com_symbol_kosdaq = PROFIT_table_kosdaq['Symbol'].tolist()\n",
    "PROFIT_namesymbol_kosdaq = []\n",
    "for i in range(len(PROFIT_com_name_kosdaq)):\n",
    "    PROFIT_namesymbol_kosdaq.append([PROFIT_com_name_kosdaq[i],PROFIT_com_symbol_kosdaq[i]]) # 사실 여기서 8로 나눴으면 좋았을텐데 속도 적으로 "
   ]
  },
  {
   "cell_type": "markdown",
   "metadata": {},
   "source": [
    "# 2. 양쪽에 불균형하게 존재하는 데이터제거 (상폐 때문인 듯) \n",
    "## 원컬럼으로 세웠을때 데이터 맞출려면 필수적"
   ]
  },
  {
   "cell_type": "code",
   "execution_count": 12,
   "metadata": {},
   "outputs": [],
   "source": [
    "# 그냥 뽑을때부터 데이터가 서로 불균형하게 뽑히는 경우가 존재 --> 어쩔 수 없이 제거 \n",
    "delistcom_kosdaq = set(PEIS_table_kosdaq['Name'].unique())-set(PROFIT_table_kosdaq['Symbol Name'].unique())\n",
    "dropdata(PEIS_table_kosdaq, 'Name', delistcom_kosdaq)\n",
    "Symbolindexcom_kosdaq = set(PEIS_table_kosdaq['Symbol'].unique())-set(PROFIT_table_kosdaq['Symbol'].unique())\n",
    "dropdata(PEIS_table_kosdaq, 'Symbol', Symbolindexcom_kosdaq)"
   ]
  },
  {
   "cell_type": "markdown",
   "metadata": {},
   "source": [
    "# 데이터 전처리 \n",
    "# 3. 주가랑 주가상승률, 애널리스트등급 행렬로 일자로 만들기"
   ]
  },
  {
   "cell_type": "code",
   "execution_count": 13,
   "metadata": {
    "scrolled": true
   },
   "outputs": [],
   "source": [
    "PROFIT_table_kosdaq = MakeLookGood(PROFIT_table_kosdaq, years = list(range(8,22))) # 새로 뽑으면 10 -> 8\n",
    "PROFIT_table_kosdaq = PROFIT_table_kosdaq.fillna(0)\n",
    "Onetable_kosdaq = MakeOnetable(PROFIT_table_kosdaq, ['수정주가(원)','투자의견점수 (E3)(포인트)','시가총액 (티커-상장예정주식수 포함)(백만원)','종가(원)','적정주가 (E3)(원)','PER(배)','PBR(배)','베타 (D,1Yr)'], ['ADJprice', 'Consensus','시가총액','Endprice','Targetprice','PER','PBR','BETA'])\n",
    "Onetable_kosdaq['deltaprice'] = Caldeltaprice(Onetable_kosdaq['ADJprice'])"
   ]
  },
  {
   "cell_type": "markdown",
   "metadata": {},
   "source": [
    "# 4.PEIS_table 기업별로 나누기 \n",
    "# +\n",
    "# 5. 기업별로 PEIS_STOCK data 맞추기_전체 합치기"
   ]
  },
  {
   "cell_type": "code",
   "execution_count": 14,
   "metadata": {},
   "outputs": [],
   "source": [
    "namebasedfs_kosdaq = namebaseDFs(PEIS_table_kosdaq)\n",
    "PEISSTOCK_com_base_kosdaq = concatPEIS_STOCK(namebasedfs_kosdaq, PROFIT_namesymbol_kosdaq, Onetable_kosdaq)\n",
    "Matchcompanybase_kosdaq = pd.concat(PEISSTOCK_com_base_kosdaq)\n",
    "Matchcompanybase_kosdaq['Targetprice'].fillna(-1,inplace = True)\n",
    "Matchcompanybase_kosdaq.reset_index(drop=True,inplace = True)\n",
    "Matchcompanybase_kosdaq.to_excel('temp/kosdaq/Matchcompany.xlsx')"
   ]
  },
  {
   "cell_type": "markdown",
   "metadata": {},
   "source": [
    "# 6 컨센 점수 가공 (제공 & 목표,종가 조합)"
   ]
  },
  {
   "cell_type": "code",
   "execution_count": 15,
   "metadata": {},
   "outputs": [],
   "source": [
    "consen_cut = pd.cut(Matchcompanybase_kosdaq['Consensus'],bins= [-0.1, 0, 2.5, 3.5, 4.5, 5], labels = [0,1,2,3,4])\n",
    "Matchcompanybase_kosdaq['consen_cut'] = consen_cut\n",
    "CompuConsen(Matchcompanybase_kosdaq)"
   ]
  },
  {
   "cell_type": "markdown",
   "metadata": {},
   "source": [
    "# 7. 스팩 제거 "
   ]
  },
  {
   "cell_type": "code",
   "execution_count": 16,
   "metadata": {},
   "outputs": [],
   "source": [
    "names = Matchcompanybase_kosdaq['Name']\n",
    "specindex = returnspecindex(names)\n",
    "Matchcompanybase_kosdaq.drop(specindex, inplace = True)\n",
    "Matchcompanybase_kosdaq.reset_index(drop = True, inplace = True)"
   ]
  },
  {
   "cell_type": "markdown",
   "metadata": {},
   "source": [
    "# 8. 저장하기"
   ]
  },
  {
   "cell_type": "code",
   "execution_count": 17,
   "metadata": {},
   "outputs": [],
   "source": [
    "Matchcompanybase_kosdaq.to_excel(\"Data/kosdaq/KosdaqPEISData&PriceData.xlsx\",index= False)"
   ]
  },
  {
   "cell_type": "code",
   "execution_count": null,
   "metadata": {},
   "outputs": [],
   "source": []
  }
 ],
 "metadata": {
  "kernelspec": {
   "display_name": "Python 3",
   "language": "python",
   "name": "python3"
  },
  "language_info": {
   "codemirror_mode": {
    "name": "ipython",
    "version": 3
   },
   "file_extension": ".py",
   "mimetype": "text/x-python",
   "name": "python",
   "nbconvert_exporter": "python",
   "pygments_lexer": "ipython3",
   "version": "3.7.6"
  }
 },
 "nbformat": 4,
 "nbformat_minor": 4
}
