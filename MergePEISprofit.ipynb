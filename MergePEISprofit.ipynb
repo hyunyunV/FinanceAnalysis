{
 "cells": [
  {
   "cell_type": "markdown",
   "metadata": {},
   "source": [
    "# 흐름 (괄호는 코스닥만)\n",
    "1. 읽어들이기 \n",
    "2. 테이블 다중인덱스로 만들기 --> 편하게 하기위해서 --> PEIS 랑 똑같은 데이터 프레임형태\n",
    "2. 목표주가, 당시주가, 수정주가, 애널리스트등급, 시가총액 일자로 세워서 붙이기\n",
    "3. 수정주가 기준 수익률 계산해주기\n",
    "4. fillna 99 해서 수익률 없는거 99해주기 --> 나중에 지우기 쉽게하기위해 임의로 박아준거임\n",
    "* (코스닥) - \"스팩\" 데이터 제거하기 \n",
    "5. 목표주가랑 현재주가 기준 컨센 구하기 \n",
    "6. PEIS랑 주가데이터랑 결합해서 저장"
   ]
  },
  {
   "cell_type": "markdown",
   "metadata": {},
   "source": [
    "# 수익률 PEIS점수테이블에 붙이기 "
   ]
  },
  {
   "cell_type": "code",
   "execution_count": 1,
   "metadata": {},
   "outputs": [],
   "source": [
    "import pandas as pd\n",
    "import numpy as np\n",
    "import warnings\n",
    "from Fin import *\n",
    "warnings.filterwarnings(action='ignore')"
   ]
  },
  {
   "cell_type": "markdown",
   "metadata": {},
   "source": [
    "# 0. 파일불러들이기 붙여질 파일(PEIS) + 붙일 파일(price)\n",
    "# 목표 : 주가랑 주가상승률, 애널리스트등급 붙이기"
   ]
  },
  {
   "cell_type": "code",
   "execution_count": 2,
   "metadata": {},
   "outputs": [],
   "source": [
    "PEIS_table = pd.read_excel(\"Data/5_4_data10.xlsx\",sheet_name = \"kospi_peis\")\n",
    "PROFIT_table = pd.read_excel(\"Data/5_4_data10.xlsx\",sheet_name = \"kospi_stock\")"
   ]
  },
  {
   "cell_type": "markdown",
   "metadata": {},
   "source": [
    "# 데이터 전처리 \n",
    "# 1. 주가랑 주가상승률, 애널리스트등급 행렬로 일자로 만들기"
   ]
  },
  {
   "cell_type": "code",
   "execution_count": 3,
   "metadata": {},
   "outputs": [],
   "source": [
    "PROFIT_table = MakeLookGood(PROFIT_table, years = list(range(10,22)))\n",
    "Onetable = MakeOnetable(PROFIT_table, ['수정주가(원)','투자의견점수 (E3)(포인트)'], ['ADJprice', 'Consensus'])\n",
    "Onetable['deltaprice'] = Caldeltaprice(Onetable['ADJprice'])\n",
    "# 여기서 deltaprice 수정사항 넣어야함\n",
    "Onetable = Onetable.fillna(99)  "
   ]
  },
  {
   "cell_type": "code",
   "execution_count": 4,
   "metadata": {},
   "outputs": [],
   "source": [
    "# 1.5 컨센 점수 가공"
   ]
  },
  {
   "cell_type": "code",
   "execution_count": 5,
   "metadata": {},
   "outputs": [],
   "source": [
    "consen_cut = pd.cut(Onetable['Consensus'],bins= [-0.1, 0, 2.5, 3.5, 4.5, 5], labels = [0,1,2,3,4])\n",
    "Onetable['consen_cut'] = consen_cut"
   ]
  },
  {
   "cell_type": "markdown",
   "metadata": {},
   "source": [
    "# 코스피도 스팩이 있음 "
   ]
  },
  {
   "cell_type": "code",
   "execution_count": null,
   "metadata": {},
   "outputs": [],
   "source": [
    "names = Onetable['Name']\n",
    "specindex = returnspecindex(names)\n",
    "Onetable.drop(specindex,inplace = True)"
   ]
  },
  {
   "cell_type": "markdown",
   "metadata": {},
   "source": [
    "# 2. 붙이기"
   ]
  },
  {
   "cell_type": "code",
   "execution_count": 6,
   "metadata": {},
   "outputs": [],
   "source": [
    "PEIS_table = pd.concat([PEIS_table,Onetable],axis=1)"
   ]
  },
  {
   "cell_type": "markdown",
   "metadata": {},
   "source": [
    "# 3. 저장하기"
   ]
  },
  {
   "cell_type": "code",
   "execution_count": 7,
   "metadata": {},
   "outputs": [],
   "source": [
    "# 이렇게 만든거는.. 일단 주가 정보가 없는 친구들도 있어서 얘들은 포트폴리오로 구성하기가 힘들 듯함 상장전인듯\n",
    "# 그리고 중간에 상폐당한 친구들은 또 PEIS는 있는데 주가가 없어서 포폴게산이 안될떄가 있을 거 같음 우짬.. \n",
    "PEIS_table.to_excel(\"Data/KospiPEISData&PriceData.xlsx\")"
   ]
  },
  {
   "cell_type": "code",
   "execution_count": 104,
   "metadata": {},
   "outputs": [
    {
     "data": {
      "text/html": [
       "<div>\n",
       "<style scoped>\n",
       "    .dataframe tbody tr th:only-of-type {\n",
       "        vertical-align: middle;\n",
       "    }\n",
       "\n",
       "    .dataframe tbody tr th {\n",
       "        vertical-align: top;\n",
       "    }\n",
       "\n",
       "    .dataframe thead th {\n",
       "        text-align: right;\n",
       "    }\n",
       "</style>\n",
       "<table border=\"1\" class=\"dataframe\">\n",
       "  <thead>\n",
       "    <tr style=\"text-align: right;\">\n",
       "      <th></th>\n",
       "      <th>Symbol</th>\n",
       "      <th>Name</th>\n",
       "      <th>회계년</th>\n",
       "      <th>총자산(천원)</th>\n",
       "      <th>총자산(평균)(천원)</th>\n",
       "      <th>영업이익(천원)</th>\n",
       "      <th>매출원가(천원)</th>\n",
       "      <th>판매비와관리비(천원)</th>\n",
       "      <th>금융원가(비영업)(천원)</th>\n",
       "      <th>기타비용(비영업)(천원)</th>\n",
       "      <th>...</th>\n",
       "      <th>매출액(천원)</th>\n",
       "      <th>매출총이익(천원)</th>\n",
       "      <th>영업활동으로인한현금흐름(천원)</th>\n",
       "      <th>매출채권(천원)</th>\n",
       "      <th>재고자산(천원)</th>\n",
       "      <th>매입채무(천원)</th>\n",
       "      <th>ADJprice</th>\n",
       "      <th>Consensus</th>\n",
       "      <th>deltaprice</th>\n",
       "      <th>consen_cut</th>\n",
       "    </tr>\n",
       "  </thead>\n",
       "  <tbody>\n",
       "    <tr>\n",
       "      <th>0</th>\n",
       "      <td>A005930</td>\n",
       "      <td>삼성전자</td>\n",
       "      <td>2010</td>\n",
       "      <td>1.342887e+11</td>\n",
       "      <td>1.232343e+11</td>\n",
       "      <td>1.662103e+10</td>\n",
       "      <td>1.026668e+11</td>\n",
       "      <td>3.534247e+10</td>\n",
       "      <td>7.700099e+09</td>\n",
       "      <td>1.079935e+09</td>\n",
       "      <td>...</td>\n",
       "      <td>1.546303e+11</td>\n",
       "      <td>5.196350e+10</td>\n",
       "      <td>2.382678e+10</td>\n",
       "      <td>1.915311e+10</td>\n",
       "      <td>1.336452e+10</td>\n",
       "      <td>9.148661e+09</td>\n",
       "      <td>18980.0</td>\n",
       "      <td>4.00</td>\n",
       "      <td>0.114858</td>\n",
       "      <td>3</td>\n",
       "    </tr>\n",
       "    <tr>\n",
       "      <th>1</th>\n",
       "      <td>A005930</td>\n",
       "      <td>삼성전자</td>\n",
       "      <td>2011</td>\n",
       "      <td>1.558003e+11</td>\n",
       "      <td>1.450445e+11</td>\n",
       "      <td>1.564429e+10</td>\n",
       "      <td>1.121451e+11</td>\n",
       "      <td>3.721236e+10</td>\n",
       "      <td>7.893421e+09</td>\n",
       "      <td>1.612690e+09</td>\n",
       "      <td>...</td>\n",
       "      <td>1.650018e+11</td>\n",
       "      <td>5.285665e+10</td>\n",
       "      <td>2.291790e+10</td>\n",
       "      <td>2.188213e+10</td>\n",
       "      <td>1.571672e+10</td>\n",
       "      <td>1.027673e+10</td>\n",
       "      <td>21160.0</td>\n",
       "      <td>4.00</td>\n",
       "      <td>0.438563</td>\n",
       "      <td>3</td>\n",
       "    </tr>\n",
       "    <tr>\n",
       "      <th>2</th>\n",
       "      <td>A005930</td>\n",
       "      <td>삼성전자</td>\n",
       "      <td>2012</td>\n",
       "      <td>1.810716e+11</td>\n",
       "      <td>1.684359e+11</td>\n",
       "      <td>2.904934e+10</td>\n",
       "      <td>1.266519e+11</td>\n",
       "      <td>4.540234e+10</td>\n",
       "      <td>7.934450e+09</td>\n",
       "      <td>1.576025e+09</td>\n",
       "      <td>...</td>\n",
       "      <td>2.011036e+11</td>\n",
       "      <td>7.445168e+10</td>\n",
       "      <td>3.797281e+10</td>\n",
       "      <td>2.386124e+10</td>\n",
       "      <td>1.774741e+10</td>\n",
       "      <td>9.489111e+09</td>\n",
       "      <td>30440.0</td>\n",
       "      <td>4.00</td>\n",
       "      <td>-0.098555</td>\n",
       "      <td>3</td>\n",
       "    </tr>\n",
       "    <tr>\n",
       "      <th>3</th>\n",
       "      <td>A005930</td>\n",
       "      <td>삼성전자</td>\n",
       "      <td>2013</td>\n",
       "      <td>2.140750e+11</td>\n",
       "      <td>1.975733e+11</td>\n",
       "      <td>3.678501e+10</td>\n",
       "      <td>1.376963e+11</td>\n",
       "      <td>5.421134e+10</td>\n",
       "      <td>7.754972e+09</td>\n",
       "      <td>1.614048e+09</td>\n",
       "      <td>...</td>\n",
       "      <td>2.286927e+11</td>\n",
       "      <td>9.099636e+10</td>\n",
       "      <td>4.670744e+10</td>\n",
       "      <td>2.498853e+10</td>\n",
       "      <td>1.913487e+10</td>\n",
       "      <td>8.437139e+09</td>\n",
       "      <td>27440.0</td>\n",
       "      <td>3.96</td>\n",
       "      <td>-0.032799</td>\n",
       "      <td>3</td>\n",
       "    </tr>\n",
       "    <tr>\n",
       "      <th>4</th>\n",
       "      <td>A005930</td>\n",
       "      <td>삼성전자</td>\n",
       "      <td>2014</td>\n",
       "      <td>2.304230e+11</td>\n",
       "      <td>2.222490e+11</td>\n",
       "      <td>2.502507e+10</td>\n",
       "      <td>1.282788e+11</td>\n",
       "      <td>5.290212e+10</td>\n",
       "      <td>7.294002e+09</td>\n",
       "      <td>2.259737e+09</td>\n",
       "      <td>...</td>\n",
       "      <td>2.062060e+11</td>\n",
       "      <td>7.792719e+10</td>\n",
       "      <td>3.697539e+10</td>\n",
       "      <td>2.469461e+10</td>\n",
       "      <td>1.731750e+10</td>\n",
       "      <td>7.914704e+09</td>\n",
       "      <td>26540.0</td>\n",
       "      <td>3.96</td>\n",
       "      <td>-0.050490</td>\n",
       "      <td>3</td>\n",
       "    </tr>\n",
       "    <tr>\n",
       "      <th>...</th>\n",
       "      <td>...</td>\n",
       "      <td>...</td>\n",
       "      <td>...</td>\n",
       "      <td>...</td>\n",
       "      <td>...</td>\n",
       "      <td>...</td>\n",
       "      <td>...</td>\n",
       "      <td>...</td>\n",
       "      <td>...</td>\n",
       "      <td>...</td>\n",
       "      <td>...</td>\n",
       "      <td>...</td>\n",
       "      <td>...</td>\n",
       "      <td>...</td>\n",
       "      <td>...</td>\n",
       "      <td>...</td>\n",
       "      <td>...</td>\n",
       "      <td>...</td>\n",
       "      <td>...</td>\n",
       "      <td>...</td>\n",
       "      <td>...</td>\n",
       "    </tr>\n",
       "    <tr>\n",
       "      <th>13987</th>\n",
       "      <td>A950100</td>\n",
       "      <td>SBI모기지</td>\n",
       "      <td>2017</td>\n",
       "      <td>NaN</td>\n",
       "      <td>NaN</td>\n",
       "      <td>NaN</td>\n",
       "      <td>NaN</td>\n",
       "      <td>NaN</td>\n",
       "      <td>NaN</td>\n",
       "      <td>NaN</td>\n",
       "      <td>...</td>\n",
       "      <td>NaN</td>\n",
       "      <td>NaN</td>\n",
       "      <td>NaN</td>\n",
       "      <td>NaN</td>\n",
       "      <td>NaN</td>\n",
       "      <td>NaN</td>\n",
       "      <td>NaN</td>\n",
       "      <td>NaN</td>\n",
       "      <td>NaN</td>\n",
       "      <td>NaN</td>\n",
       "    </tr>\n",
       "    <tr>\n",
       "      <th>13988</th>\n",
       "      <td>A950100</td>\n",
       "      <td>SBI모기지</td>\n",
       "      <td>2018</td>\n",
       "      <td>NaN</td>\n",
       "      <td>NaN</td>\n",
       "      <td>NaN</td>\n",
       "      <td>NaN</td>\n",
       "      <td>NaN</td>\n",
       "      <td>NaN</td>\n",
       "      <td>NaN</td>\n",
       "      <td>...</td>\n",
       "      <td>NaN</td>\n",
       "      <td>NaN</td>\n",
       "      <td>NaN</td>\n",
       "      <td>NaN</td>\n",
       "      <td>NaN</td>\n",
       "      <td>NaN</td>\n",
       "      <td>NaN</td>\n",
       "      <td>NaN</td>\n",
       "      <td>NaN</td>\n",
       "      <td>NaN</td>\n",
       "    </tr>\n",
       "    <tr>\n",
       "      <th>13989</th>\n",
       "      <td>A950100</td>\n",
       "      <td>SBI모기지</td>\n",
       "      <td>2019</td>\n",
       "      <td>NaN</td>\n",
       "      <td>NaN</td>\n",
       "      <td>NaN</td>\n",
       "      <td>NaN</td>\n",
       "      <td>NaN</td>\n",
       "      <td>NaN</td>\n",
       "      <td>NaN</td>\n",
       "      <td>...</td>\n",
       "      <td>NaN</td>\n",
       "      <td>NaN</td>\n",
       "      <td>NaN</td>\n",
       "      <td>NaN</td>\n",
       "      <td>NaN</td>\n",
       "      <td>NaN</td>\n",
       "      <td>NaN</td>\n",
       "      <td>NaN</td>\n",
       "      <td>NaN</td>\n",
       "      <td>NaN</td>\n",
       "    </tr>\n",
       "    <tr>\n",
       "      <th>13990</th>\n",
       "      <td>A950100</td>\n",
       "      <td>SBI모기지</td>\n",
       "      <td>2020</td>\n",
       "      <td>NaN</td>\n",
       "      <td>NaN</td>\n",
       "      <td>NaN</td>\n",
       "      <td>NaN</td>\n",
       "      <td>NaN</td>\n",
       "      <td>NaN</td>\n",
       "      <td>NaN</td>\n",
       "      <td>...</td>\n",
       "      <td>NaN</td>\n",
       "      <td>NaN</td>\n",
       "      <td>NaN</td>\n",
       "      <td>NaN</td>\n",
       "      <td>NaN</td>\n",
       "      <td>NaN</td>\n",
       "      <td>NaN</td>\n",
       "      <td>NaN</td>\n",
       "      <td>NaN</td>\n",
       "      <td>NaN</td>\n",
       "    </tr>\n",
       "    <tr>\n",
       "      <th>13991</th>\n",
       "      <td>A950100</td>\n",
       "      <td>SBI모기지</td>\n",
       "      <td>2021</td>\n",
       "      <td>NaN</td>\n",
       "      <td>NaN</td>\n",
       "      <td>NaN</td>\n",
       "      <td>NaN</td>\n",
       "      <td>NaN</td>\n",
       "      <td>NaN</td>\n",
       "      <td>NaN</td>\n",
       "      <td>...</td>\n",
       "      <td>NaN</td>\n",
       "      <td>NaN</td>\n",
       "      <td>NaN</td>\n",
       "      <td>NaN</td>\n",
       "      <td>NaN</td>\n",
       "      <td>NaN</td>\n",
       "      <td>NaN</td>\n",
       "      <td>NaN</td>\n",
       "      <td>NaN</td>\n",
       "      <td>NaN</td>\n",
       "    </tr>\n",
       "  </tbody>\n",
       "</table>\n",
       "<p>13992 rows × 27 columns</p>\n",
       "</div>"
      ],
      "text/plain": [
       "        Symbol    Name   회계년       총자산(천원)   총자산(평균)(천원)      영업이익(천원)  \\\n",
       "0      A005930    삼성전자  2010  1.342887e+11  1.232343e+11  1.662103e+10   \n",
       "1      A005930    삼성전자  2011  1.558003e+11  1.450445e+11  1.564429e+10   \n",
       "2      A005930    삼성전자  2012  1.810716e+11  1.684359e+11  2.904934e+10   \n",
       "3      A005930    삼성전자  2013  2.140750e+11  1.975733e+11  3.678501e+10   \n",
       "4      A005930    삼성전자  2014  2.304230e+11  2.222490e+11  2.502507e+10   \n",
       "...        ...     ...   ...           ...           ...           ...   \n",
       "13987  A950100  SBI모기지  2017           NaN           NaN           NaN   \n",
       "13988  A950100  SBI모기지  2018           NaN           NaN           NaN   \n",
       "13989  A950100  SBI모기지  2019           NaN           NaN           NaN   \n",
       "13990  A950100  SBI모기지  2020           NaN           NaN           NaN   \n",
       "13991  A950100  SBI모기지  2021           NaN           NaN           NaN   \n",
       "\n",
       "           매출원가(천원)   판매비와관리비(천원)  금융원가(비영업)(천원)  기타비용(비영업)(천원)  ...  \\\n",
       "0      1.026668e+11  3.534247e+10   7.700099e+09   1.079935e+09  ...   \n",
       "1      1.121451e+11  3.721236e+10   7.893421e+09   1.612690e+09  ...   \n",
       "2      1.266519e+11  4.540234e+10   7.934450e+09   1.576025e+09  ...   \n",
       "3      1.376963e+11  5.421134e+10   7.754972e+09   1.614048e+09  ...   \n",
       "4      1.282788e+11  5.290212e+10   7.294002e+09   2.259737e+09  ...   \n",
       "...             ...           ...            ...            ...  ...   \n",
       "13987           NaN           NaN            NaN            NaN  ...   \n",
       "13988           NaN           NaN            NaN            NaN  ...   \n",
       "13989           NaN           NaN            NaN            NaN  ...   \n",
       "13990           NaN           NaN            NaN            NaN  ...   \n",
       "13991           NaN           NaN            NaN            NaN  ...   \n",
       "\n",
       "            매출액(천원)     매출총이익(천원)  영업활동으로인한현금흐름(천원)      매출채권(천원)  \\\n",
       "0      1.546303e+11  5.196350e+10      2.382678e+10  1.915311e+10   \n",
       "1      1.650018e+11  5.285665e+10      2.291790e+10  2.188213e+10   \n",
       "2      2.011036e+11  7.445168e+10      3.797281e+10  2.386124e+10   \n",
       "3      2.286927e+11  9.099636e+10      4.670744e+10  2.498853e+10   \n",
       "4      2.062060e+11  7.792719e+10      3.697539e+10  2.469461e+10   \n",
       "...             ...           ...               ...           ...   \n",
       "13987           NaN           NaN               NaN           NaN   \n",
       "13988           NaN           NaN               NaN           NaN   \n",
       "13989           NaN           NaN               NaN           NaN   \n",
       "13990           NaN           NaN               NaN           NaN   \n",
       "13991           NaN           NaN               NaN           NaN   \n",
       "\n",
       "           재고자산(천원)      매입채무(천원)  ADJprice  Consensus  deltaprice  consen_cut  \n",
       "0      1.336452e+10  9.148661e+09   18980.0       4.00    0.114858           3  \n",
       "1      1.571672e+10  1.027673e+10   21160.0       4.00    0.438563           3  \n",
       "2      1.774741e+10  9.489111e+09   30440.0       4.00   -0.098555           3  \n",
       "3      1.913487e+10  8.437139e+09   27440.0       3.96   -0.032799           3  \n",
       "4      1.731750e+10  7.914704e+09   26540.0       3.96   -0.050490           3  \n",
       "...             ...           ...       ...        ...         ...         ...  \n",
       "13987           NaN           NaN       NaN        NaN         NaN         NaN  \n",
       "13988           NaN           NaN       NaN        NaN         NaN         NaN  \n",
       "13989           NaN           NaN       NaN        NaN         NaN         NaN  \n",
       "13990           NaN           NaN       NaN        NaN         NaN         NaN  \n",
       "13991           NaN           NaN       NaN        NaN         NaN         NaN  \n",
       "\n",
       "[13992 rows x 27 columns]"
      ]
     },
     "execution_count": 104,
     "metadata": {},
     "output_type": "execute_result"
    }
   ],
   "source": [
    "PEIS_table"
   ]
  },
  {
   "cell_type": "markdown",
   "metadata": {},
   "source": [
    "# 코스닥 똑같이 만들기 + 코스닥 Null값 확인해봐야함"
   ]
  },
  {
   "cell_type": "code",
   "execution_count": 81,
   "metadata": {},
   "outputs": [],
   "source": [
    "PEIS_table_kosdaq = pd.read_excel(\"Data/5_4_data10.xlsx\",sheet_name = \"kosdaq_peis\")\n",
    "PROFIT_table_kosdaq = pd.read_excel(\"Data/5_4_data10.xlsx\",sheet_name = \"kosdaq_stock\")"
   ]
  },
  {
   "cell_type": "code",
   "execution_count": 50,
   "metadata": {},
   "outputs": [],
   "source": [
    "specindex = returnspecindex(names)"
   ]
  },
  {
   "cell_type": "code",
   "execution_count": 54,
   "metadata": {
    "collapsed": true
   },
   "outputs": [
    {
     "ename": "NameError",
     "evalue": "name 'PEIS_table_kosdaq' is not defined",
     "output_type": "error",
     "traceback": [
      "\u001b[1;31m---------------------------------------------------------------------------\u001b[0m",
      "\u001b[1;31mNameError\u001b[0m                                 Traceback (most recent call last)",
      "\u001b[1;32m<ipython-input-54-18663a518843>\u001b[0m in \u001b[0;36m<module>\u001b[1;34m\u001b[0m\n\u001b[1;32m----> 1\u001b[1;33m \u001b[0mPEIS_table_kosdaq\u001b[0m\u001b[1;33m.\u001b[0m\u001b[0mdrop\u001b[0m\u001b[1;33m(\u001b[0m\u001b[0mspecindex\u001b[0m\u001b[1;33m,\u001b[0m\u001b[0minplace\u001b[0m \u001b[1;33m=\u001b[0m \u001b[1;32mTrue\u001b[0m\u001b[1;33m)\u001b[0m\u001b[1;33m\u001b[0m\u001b[1;33m\u001b[0m\u001b[0m\n\u001b[0m",
      "\u001b[1;31mNameError\u001b[0m: name 'PEIS_table_kosdaq' is not defined"
     ]
    }
   ],
   "source": [
    "PEIS_table_kosdaq.drop(specindex,inplace = True)"
   ]
  },
  {
   "cell_type": "code",
   "execution_count": null,
   "metadata": {},
   "outputs": [],
   "source": [
    "PROFIT_table_kosdaq = MakeLookGood(PROFIT_table_kosdaq, years = list(range(10,22)))\n",
    "# 이 아래다가 목표주가-target_price, 시가총액-MarketValue\n",
    "Onetable_kosdaq = MakeOnetable(PROFIT_table_kosdaq, ['수정주가(원)','투자의견점수 (E3)(포인트)'], ['ADJprice', 'Consensus'])\n",
    "Onetable_kosdaq['deltaprice'] = Caldeltaprice(Onetable_kosdaq['ADJprice'])\n",
    "# 여기서 deltaprice 수정사항 넣어야함\n",
    "Onetable_kosdaq = Onetable_kosdaq.fillna(99)  \n",
    "consen_cut = pd.cut(Onetable_kosdaq['Consensus'],bins= [-0.1, 0, 2.5, 3.5, 4.5, 5], labels = [0,1,2,3,4])\n",
    "Onetable_kosdaq['consen_cut'] = consen_cut"
   ]
  },
  {
   "cell_type": "markdown",
   "metadata": {},
   "source": [
    "# 코스닥 스팩빼기"
   ]
  },
  {
   "cell_type": "code",
   "execution_count": null,
   "metadata": {},
   "outputs": [],
   "source": [
    "names = Onetable_kosdaq['Name']\n",
    "specindex = returnspecindex(names)\n",
    "Onetable_kosdaq.drop(specindex,inplace = True)"
   ]
  },
  {
   "cell_type": "markdown",
   "metadata": {},
   "source": [
    "# 나중에 넣을 것 예시"
   ]
  },
  {
   "cell_type": "code",
   "execution_count": null,
   "metadata": {},
   "outputs": [],
   "source": [
    "Onetable_kosdaq = MakeOnetable(PROFIT_table_kosdaq, ['수정주가(원)','투자의견점수 (E3)(포인트)','목표주가','시가총액'], \\\n",
    "                               ['ADJprice', 'Consensus','TargetPrice','MarketValue'])\n"
   ]
  },
  {
   "cell_type": "code",
   "execution_count": 76,
   "metadata": {},
   "outputs": [],
   "source": [
    "def CompuConsen(df):\n",
    "    df['CompuConsen'] = 0\n",
    "    Nowprice = df['총자산(천원)'] # 지금 주가\n",
    "    Targetprice = df['총자산(평균)(천원)'] # 목표주가 \n",
    "    for i in range(len(df)):\n",
    "        if Nowprice[i]*1.4 <= Targetprice[i]:\n",
    "            df['CompuConsen'][i] = 5\n",
    "        elif ((Nowprice[i]*1.2 <= Targetprice[i]) | (Nowprice[i]*1.4 > Targetprice[i])) :\n",
    "            df['CompuConsen'][i] = 4\n",
    "        elif ((Nowprice[i]*0.8 <= Targetprice[i]) | (Nowprice[i]*1.2 > Targetprice[i])) :\n",
    "            df['CompuConsen'][i] = 3\n",
    "        elif (Nowprice[i]*0.8 > Targetprice[i]) :\n",
    "            df['CompuConsen'][i] = 1\n",
    "        else :\n",
    "            df['CompuConsen'][i] = 0\n",
    "            "
   ]
  },
  {
   "cell_type": "code",
   "execution_count": 77,
   "metadata": {},
   "outputs": [],
   "source": [
    "CompuConsen(Onetable_kosdaq)"
   ]
  },
  {
   "cell_type": "code",
   "execution_count": null,
   "metadata": {},
   "outputs": [],
   "source": [
    "PEIS_table_kosdaq = pd.concat([PEIS_table_kosdaq,Onetable_kosdaq],axis=1)\n",
    "PEIS_table_kosdaq.to_excel(\"Data/KosdaqPEISData&PriceData.xlsx\")"
   ]
  },
  {
   "cell_type": "code",
   "execution_count": null,
   "metadata": {},
   "outputs": [],
   "source": []
  },
  {
   "cell_type": "code",
   "execution_count": null,
   "metadata": {},
   "outputs": [],
   "source": []
  }
 ],
 "metadata": {
  "kernelspec": {
   "display_name": "Python 3",
   "language": "python",
   "name": "python3"
  },
  "language_info": {
   "codemirror_mode": {
    "name": "ipython",
    "version": 3
   },
   "file_extension": ".py",
   "mimetype": "text/x-python",
   "name": "python",
   "nbconvert_exporter": "python",
   "pygments_lexer": "ipython3",
   "version": "3.7.6"
  }
 },
 "nbformat": 4,
 "nbformat_minor": 4
}
