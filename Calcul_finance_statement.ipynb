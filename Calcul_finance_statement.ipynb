{
 "cells": [
  {
   "cell_type": "markdown",
   "metadata": {},
   "source": [
    "# 중요 결정사항 및 설명란\n",
    "deltaprice = (t+1주가) - (t주가) / (t주가) --> 향후 1년 상승측정 \n",
    "* 1. deltaprice에서 0은 상폐년도인 것 같음.. 확인 필요 왜냐면 주가 있다가 내년에 사라진거니깐 \n",
    "* 2. deltaprice에서 99는 deltaprice연산때 Null값 나온거임 해당년도에 상장되어 있지 않기때문인 듯\n",
    "* 3. Consensus 0(의견없음)이 존나 많음, 그리고 hold랑 sell이 전체년도에서 100개 수준인 것 같음\n",
    "* 4. 처음에 Cut20NullfillNA에서 쓸모없는 데이터 버리는데, 여기서 기본 PEIS데이터만 있을때 20개 NULL값 있는거만 쓸모없었고 나머지는 0 채워서 쓰면댈 듯 근데 은행들 이런친구들은 아에안쓰는 항목들은 PEIS지표에 어떻게 영향을 줄진 모르겠음\n",
    "* 5. 2010년 2021년 데이터는 없어도 댐 쓰면도 안댐"
   ]
  },
  {
   "cell_type": "markdown",
   "metadata": {},
   "source": [
    "###     나중에 kospi, kosdaq 별로 따로 읽어서 처리 행야함 + 내 생각에 다중회귀분석은 따로 만들어야할 듯 "
   ]
  },
  {
   "cell_type": "markdown",
   "metadata": {},
   "source": [
    "# 필요 모듈"
   ]
  },
  {
   "cell_type": "code",
   "execution_count": 93,
   "metadata": {},
   "outputs": [],
   "source": [
    "import pandas as pd\n",
    "import numpy as np\n",
    "import warnings\n",
    "import matplotlib.pyplot as plt\n",
    "import seaborn as sns\n",
    "\n",
    "from Fin import *\n",
    "warnings.filterwarnings(action='ignore')"
   ]
  },
  {
   "cell_type": "markdown",
   "metadata": {},
   "source": [
    "# 0. 엑셀읽기"
   ]
  },
  {
   "cell_type": "code",
   "execution_count": 107,
   "metadata": {},
   "outputs": [],
   "source": [
    "df = pd.read_excel(\"Data/KospiPEISData&PriceData.xlsx\")\n",
    "df = Cut20NullfillNA(df)\n",
    "# 이게 목표주가랑 수정주가 붙ㅇ티면서 NA가 더 많아질것 같은데 그러면 그때는 그냥 20이상은 제거하는 것으로하자\n",
    "# 여기서 deltaprice이상한거 제거하기\n",
    "# 여기서부터 년도 별로 나누기 해야할 가능성 있음"
   ]
  },
  {
   "cell_type": "markdown",
   "metadata": {},
   "source": [
    "# Drop 시킬 데이터 코드모음 --> 나중에 deltaprice해야함 "
   ]
  },
  {
   "cell_type": "code",
   "execution_count": 95,
   "metadata": {},
   "outputs": [],
   "source": [
    "df = df.drop(df[ (df['deltaprice']==99) | (df['deltaprice']==np.inf)].index)"
   ]
  },
  {
   "cell_type": "code",
   "execution_count": 101,
   "metadata": {},
   "outputs": [
    {
     "data": {
      "text/plain": [
       "0         0\n",
       "1         0\n",
       "2         0\n",
       "3         0\n",
       "4         0\n",
       "         ..\n",
       "13987    24\n",
       "13988    24\n",
       "13989    24\n",
       "13990    24\n",
       "13991    24\n",
       "Length: 13992, dtype: int64"
      ]
     },
     "execution_count": 101,
     "metadata": {},
     "output_type": "execute_result"
    }
   ],
   "source": [
    "df = pd.read_excel(\"Data/KospiPEISData&PriceData.xlsx\")"
   ]
  },
  {
   "cell_type": "markdown",
   "metadata": {},
   "source": [
    "# 1. PEIS를 구하기 위한 기초데이터들 연산해보기 (기업별로)"
   ]
  },
  {
   "cell_type": "code",
   "execution_count": 96,
   "metadata": {},
   "outputs": [],
   "source": [
    "PEISBaseData = CompuMoreData(df)\n",
    "PEISBaseData = setSGA(PEISBaseData)"
   ]
  },
  {
   "cell_type": "code",
   "execution_count": 97,
   "metadata": {},
   "outputs": [
    {
     "data": {
      "text/html": [
       "<div>\n",
       "<style scoped>\n",
       "    .dataframe tbody tr th:only-of-type {\n",
       "        vertical-align: middle;\n",
       "    }\n",
       "\n",
       "    .dataframe tbody tr th {\n",
       "        vertical-align: top;\n",
       "    }\n",
       "\n",
       "    .dataframe thead th {\n",
       "        text-align: right;\n",
       "    }\n",
       "</style>\n",
       "<table border=\"1\" class=\"dataframe\">\n",
       "  <thead>\n",
       "    <tr style=\"text-align: right;\">\n",
       "      <th></th>\n",
       "      <th>Name</th>\n",
       "      <th>회계년</th>\n",
       "      <th>Symbol</th>\n",
       "      <th>총자산(천원)</th>\n",
       "      <th>총자산(평균)(천원)</th>\n",
       "      <th>영업이익(천원)</th>\n",
       "      <th>매출원가(천원)</th>\n",
       "      <th>판매비와관리비(천원)</th>\n",
       "      <th>금융원가(비영업)(천원)</th>\n",
       "      <th>기타비용(비영업)(천원)</th>\n",
       "      <th>...</th>\n",
       "      <th>SGA</th>\n",
       "      <th>deltaSGA</th>\n",
       "      <th>GM</th>\n",
       "      <th>deltaGM1</th>\n",
       "      <th>deltasale</th>\n",
       "      <th>deltaGM2</th>\n",
       "      <th>ATO</th>\n",
       "      <th>deltaATO</th>\n",
       "      <th>SGAdeltasale&gt;0</th>\n",
       "      <th>SGAdeltasale&lt;0</th>\n",
       "    </tr>\n",
       "  </thead>\n",
       "  <tbody>\n",
       "    <tr>\n",
       "      <th>0</th>\n",
       "      <td>휴비스</td>\n",
       "      <td>2012</td>\n",
       "      <td>A079980</td>\n",
       "      <td>8.254603e+08</td>\n",
       "      <td>8.095595e+08</td>\n",
       "      <td>58819263.08</td>\n",
       "      <td>1.414522e+09</td>\n",
       "      <td>8.917806e+07</td>\n",
       "      <td>7037479.0</td>\n",
       "      <td>11759372.0</td>\n",
       "      <td>...</td>\n",
       "      <td>1.503700e+09</td>\n",
       "      <td>0.000000e+00</td>\n",
       "      <td>1.479973e+08</td>\n",
       "      <td>0.000000</td>\n",
       "      <td>0.000000</td>\n",
       "      <td>0.000000</td>\n",
       "      <td>1.892907</td>\n",
       "      <td>0.000000</td>\n",
       "      <td>0.00</td>\n",
       "      <td>0.000000e+00</td>\n",
       "    </tr>\n",
       "    <tr>\n",
       "      <th>1</th>\n",
       "      <td>휴비스</td>\n",
       "      <td>2013</td>\n",
       "      <td>A079980</td>\n",
       "      <td>8.262735e+08</td>\n",
       "      <td>8.258669e+08</td>\n",
       "      <td>43055543.08</td>\n",
       "      <td>1.399278e+09</td>\n",
       "      <td>9.058445e+07</td>\n",
       "      <td>5038770.0</td>\n",
       "      <td>16131809.0</td>\n",
       "      <td>...</td>\n",
       "      <td>1.489862e+09</td>\n",
       "      <td>-1.383792e+07</td>\n",
       "      <td>1.336400e+08</td>\n",
       "      <td>-0.097011</td>\n",
       "      <td>-0.018945</td>\n",
       "      <td>-0.078066</td>\n",
       "      <td>1.855218</td>\n",
       "      <td>-0.037688</td>\n",
       "      <td>0.00</td>\n",
       "      <td>-1.383792e+07</td>\n",
       "    </tr>\n",
       "    <tr>\n",
       "      <th>2</th>\n",
       "      <td>휴비스</td>\n",
       "      <td>2014</td>\n",
       "      <td>A079980</td>\n",
       "      <td>8.996906e+08</td>\n",
       "      <td>8.629820e+08</td>\n",
       "      <td>43517637.97</td>\n",
       "      <td>1.221072e+09</td>\n",
       "      <td>1.071059e+08</td>\n",
       "      <td>6552552.0</td>\n",
       "      <td>16850231.0</td>\n",
       "      <td>...</td>\n",
       "      <td>1.328178e+09</td>\n",
       "      <td>-1.616840e+08</td>\n",
       "      <td>1.506236e+08</td>\n",
       "      <td>0.127084</td>\n",
       "      <td>-0.105173</td>\n",
       "      <td>0.232258</td>\n",
       "      <td>1.524631</td>\n",
       "      <td>-0.330588</td>\n",
       "      <td>0.00</td>\n",
       "      <td>-1.616840e+08</td>\n",
       "    </tr>\n",
       "    <tr>\n",
       "      <th>3</th>\n",
       "      <td>휴비스</td>\n",
       "      <td>2015</td>\n",
       "      <td>A079980</td>\n",
       "      <td>8.565891e+08</td>\n",
       "      <td>8.781398e+08</td>\n",
       "      <td>33597427.19</td>\n",
       "      <td>1.069096e+09</td>\n",
       "      <td>1.023916e+08</td>\n",
       "      <td>10152125.0</td>\n",
       "      <td>16151979.0</td>\n",
       "      <td>...</td>\n",
       "      <td>1.171487e+09</td>\n",
       "      <td>-1.566910e+08</td>\n",
       "      <td>1.359891e+08</td>\n",
       "      <td>-0.097159</td>\n",
       "      <td>-0.121464</td>\n",
       "      <td>0.024304</td>\n",
       "      <td>1.406841</td>\n",
       "      <td>-0.117790</td>\n",
       "      <td>0.00</td>\n",
       "      <td>-1.566910e+08</td>\n",
       "    </tr>\n",
       "    <tr>\n",
       "      <th>4</th>\n",
       "      <td>휴비스</td>\n",
       "      <td>2016</td>\n",
       "      <td>A079980</td>\n",
       "      <td>9.141253e+08</td>\n",
       "      <td>8.853572e+08</td>\n",
       "      <td>15073251.20</td>\n",
       "      <td>1.027344e+09</td>\n",
       "      <td>1.010837e+08</td>\n",
       "      <td>8065731.0</td>\n",
       "      <td>14554763.0</td>\n",
       "      <td>...</td>\n",
       "      <td>1.128428e+09</td>\n",
       "      <td>-4.305932e+07</td>\n",
       "      <td>1.161570e+08</td>\n",
       "      <td>-0.145836</td>\n",
       "      <td>-0.051103</td>\n",
       "      <td>-0.094733</td>\n",
       "      <td>1.250924</td>\n",
       "      <td>-0.155917</td>\n",
       "      <td>0.00</td>\n",
       "      <td>-4.305932e+07</td>\n",
       "    </tr>\n",
       "    <tr>\n",
       "      <th>...</th>\n",
       "      <td>...</td>\n",
       "      <td>...</td>\n",
       "      <td>...</td>\n",
       "      <td>...</td>\n",
       "      <td>...</td>\n",
       "      <td>...</td>\n",
       "      <td>...</td>\n",
       "      <td>...</td>\n",
       "      <td>...</td>\n",
       "      <td>...</td>\n",
       "      <td>...</td>\n",
       "      <td>...</td>\n",
       "      <td>...</td>\n",
       "      <td>...</td>\n",
       "      <td>...</td>\n",
       "      <td>...</td>\n",
       "      <td>...</td>\n",
       "      <td>...</td>\n",
       "      <td>...</td>\n",
       "      <td>...</td>\n",
       "      <td>...</td>\n",
       "    </tr>\n",
       "    <tr>\n",
       "      <th>8610</th>\n",
       "      <td>부산가스</td>\n",
       "      <td>2016</td>\n",
       "      <td>A015350</td>\n",
       "      <td>8.406410e+08</td>\n",
       "      <td>8.224005e+08</td>\n",
       "      <td>35905166.14</td>\n",
       "      <td>7.550458e+08</td>\n",
       "      <td>9.593077e+07</td>\n",
       "      <td>2415125.0</td>\n",
       "      <td>7109890.0</td>\n",
       "      <td>...</td>\n",
       "      <td>8.509766e+08</td>\n",
       "      <td>-1.722021e+08</td>\n",
       "      <td>1.318359e+08</td>\n",
       "      <td>0.026106</td>\n",
       "      <td>-0.158702</td>\n",
       "      <td>0.184808</td>\n",
       "      <td>1.055007</td>\n",
       "      <td>-0.255905</td>\n",
       "      <td>0.00</td>\n",
       "      <td>-1.722021e+08</td>\n",
       "    </tr>\n",
       "    <tr>\n",
       "      <th>8611</th>\n",
       "      <td>부산가스</td>\n",
       "      <td>2017</td>\n",
       "      <td>A015350</td>\n",
       "      <td>9.085391e+08</td>\n",
       "      <td>8.745901e+08</td>\n",
       "      <td>37762515.46</td>\n",
       "      <td>7.980412e+08</td>\n",
       "      <td>9.943127e+07</td>\n",
       "      <td>240462.0</td>\n",
       "      <td>4560750.0</td>\n",
       "      <td>...</td>\n",
       "      <td>8.974725e+08</td>\n",
       "      <td>4.649588e+07</td>\n",
       "      <td>1.371938e+08</td>\n",
       "      <td>0.040640</td>\n",
       "      <td>0.054520</td>\n",
       "      <td>-0.013880</td>\n",
       "      <td>1.029383</td>\n",
       "      <td>-0.025623</td>\n",
       "      <td>46495881.79</td>\n",
       "      <td>0.000000e+00</td>\n",
       "    </tr>\n",
       "    <tr>\n",
       "      <th>8612</th>\n",
       "      <td>부산가스</td>\n",
       "      <td>2018</td>\n",
       "      <td>A015350</td>\n",
       "      <td>9.783107e+08</td>\n",
       "      <td>9.434249e+08</td>\n",
       "      <td>41259978.97</td>\n",
       "      <td>8.070351e+08</td>\n",
       "      <td>1.035129e+08</td>\n",
       "      <td>165666.0</td>\n",
       "      <td>3606421.0</td>\n",
       "      <td>...</td>\n",
       "      <td>9.105480e+08</td>\n",
       "      <td>1.307548e+07</td>\n",
       "      <td>1.447729e+08</td>\n",
       "      <td>0.055244</td>\n",
       "      <td>0.017721</td>\n",
       "      <td>0.037523</td>\n",
       "      <td>0.972910</td>\n",
       "      <td>-0.056474</td>\n",
       "      <td>13075480.93</td>\n",
       "      <td>0.000000e+00</td>\n",
       "    </tr>\n",
       "    <tr>\n",
       "      <th>8613</th>\n",
       "      <td>부산가스</td>\n",
       "      <td>2019</td>\n",
       "      <td>A015350</td>\n",
       "      <td>1.036741e+09</td>\n",
       "      <td>1.007526e+09</td>\n",
       "      <td>43528727.47</td>\n",
       "      <td>8.186778e+08</td>\n",
       "      <td>1.105826e+08</td>\n",
       "      <td>227343.0</td>\n",
       "      <td>5602763.0</td>\n",
       "      <td>...</td>\n",
       "      <td>9.292604e+08</td>\n",
       "      <td>1.871239e+07</td>\n",
       "      <td>1.541113e+08</td>\n",
       "      <td>0.064504</td>\n",
       "      <td>0.022043</td>\n",
       "      <td>0.042461</td>\n",
       "      <td>0.938315</td>\n",
       "      <td>-0.034595</td>\n",
       "      <td>18712394.20</td>\n",
       "      <td>0.000000e+00</td>\n",
       "    </tr>\n",
       "    <tr>\n",
       "      <th>8614</th>\n",
       "      <td>부산가스</td>\n",
       "      <td>2020</td>\n",
       "      <td>A015350</td>\n",
       "      <td>1.267541e+09</td>\n",
       "      <td>1.152141e+09</td>\n",
       "      <td>35075288.98</td>\n",
       "      <td>7.763099e+08</td>\n",
       "      <td>1.106875e+08</td>\n",
       "      <td>267551.0</td>\n",
       "      <td>2233411.0</td>\n",
       "      <td>...</td>\n",
       "      <td>8.869973e+08</td>\n",
       "      <td>-4.226302e+07</td>\n",
       "      <td>1.457628e+08</td>\n",
       "      <td>-0.054172</td>\n",
       "      <td>-0.052135</td>\n",
       "      <td>-0.002037</td>\n",
       "      <td>0.727450</td>\n",
       "      <td>-0.210865</td>\n",
       "      <td>0.00</td>\n",
       "      <td>-4.226302e+07</td>\n",
       "    </tr>\n",
       "  </tbody>\n",
       "</table>\n",
       "<p>8615 rows × 43 columns</p>\n",
       "</div>"
      ],
      "text/plain": [
       "      Name   회계년   Symbol       총자산(천원)   총자산(평균)(천원)     영업이익(천원)  \\\n",
       "0      휴비스  2012  A079980  8.254603e+08  8.095595e+08  58819263.08   \n",
       "1      휴비스  2013  A079980  8.262735e+08  8.258669e+08  43055543.08   \n",
       "2      휴비스  2014  A079980  8.996906e+08  8.629820e+08  43517637.97   \n",
       "3      휴비스  2015  A079980  8.565891e+08  8.781398e+08  33597427.19   \n",
       "4      휴비스  2016  A079980  9.141253e+08  8.853572e+08  15073251.20   \n",
       "...    ...   ...      ...           ...           ...          ...   \n",
       "8610  부산가스  2016  A015350  8.406410e+08  8.224005e+08  35905166.14   \n",
       "8611  부산가스  2017  A015350  9.085391e+08  8.745901e+08  37762515.46   \n",
       "8612  부산가스  2018  A015350  9.783107e+08  9.434249e+08  41259978.97   \n",
       "8613  부산가스  2019  A015350  1.036741e+09  1.007526e+09  43528727.47   \n",
       "8614  부산가스  2020  A015350  1.267541e+09  1.152141e+09  35075288.98   \n",
       "\n",
       "          매출원가(천원)   판매비와관리비(천원)  금융원가(비영업)(천원)  기타비용(비영업)(천원)  ...  \\\n",
       "0     1.414522e+09  8.917806e+07      7037479.0     11759372.0  ...   \n",
       "1     1.399278e+09  9.058445e+07      5038770.0     16131809.0  ...   \n",
       "2     1.221072e+09  1.071059e+08      6552552.0     16850231.0  ...   \n",
       "3     1.069096e+09  1.023916e+08     10152125.0     16151979.0  ...   \n",
       "4     1.027344e+09  1.010837e+08      8065731.0     14554763.0  ...   \n",
       "...            ...           ...            ...            ...  ...   \n",
       "8610  7.550458e+08  9.593077e+07      2415125.0      7109890.0  ...   \n",
       "8611  7.980412e+08  9.943127e+07       240462.0      4560750.0  ...   \n",
       "8612  8.070351e+08  1.035129e+08       165666.0      3606421.0  ...   \n",
       "8613  8.186778e+08  1.105826e+08       227343.0      5602763.0  ...   \n",
       "8614  7.763099e+08  1.106875e+08       267551.0      2233411.0  ...   \n",
       "\n",
       "               SGA      deltaSGA            GM  deltaGM1  deltasale  deltaGM2  \\\n",
       "0     1.503700e+09  0.000000e+00  1.479973e+08  0.000000   0.000000  0.000000   \n",
       "1     1.489862e+09 -1.383792e+07  1.336400e+08 -0.097011  -0.018945 -0.078066   \n",
       "2     1.328178e+09 -1.616840e+08  1.506236e+08  0.127084  -0.105173  0.232258   \n",
       "3     1.171487e+09 -1.566910e+08  1.359891e+08 -0.097159  -0.121464  0.024304   \n",
       "4     1.128428e+09 -4.305932e+07  1.161570e+08 -0.145836  -0.051103 -0.094733   \n",
       "...            ...           ...           ...       ...        ...       ...   \n",
       "8610  8.509766e+08 -1.722021e+08  1.318359e+08  0.026106  -0.158702  0.184808   \n",
       "8611  8.974725e+08  4.649588e+07  1.371938e+08  0.040640   0.054520 -0.013880   \n",
       "8612  9.105480e+08  1.307548e+07  1.447729e+08  0.055244   0.017721  0.037523   \n",
       "8613  9.292604e+08  1.871239e+07  1.541113e+08  0.064504   0.022043  0.042461   \n",
       "8614  8.869973e+08 -4.226302e+07  1.457628e+08 -0.054172  -0.052135 -0.002037   \n",
       "\n",
       "           ATO  deltaATO  SGAdeltasale>0  SGAdeltasale<0  \n",
       "0     1.892907  0.000000            0.00    0.000000e+00  \n",
       "1     1.855218 -0.037688            0.00   -1.383792e+07  \n",
       "2     1.524631 -0.330588            0.00   -1.616840e+08  \n",
       "3     1.406841 -0.117790            0.00   -1.566910e+08  \n",
       "4     1.250924 -0.155917            0.00   -4.305932e+07  \n",
       "...        ...       ...             ...             ...  \n",
       "8610  1.055007 -0.255905            0.00   -1.722021e+08  \n",
       "8611  1.029383 -0.025623     46495881.79    0.000000e+00  \n",
       "8612  0.972910 -0.056474     13075480.93    0.000000e+00  \n",
       "8613  0.938315 -0.034595     18712394.20    0.000000e+00  \n",
       "8614  0.727450 -0.210865            0.00   -4.226302e+07  \n",
       "\n",
       "[8615 rows x 43 columns]"
      ]
     },
     "execution_count": 97,
     "metadata": {},
     "output_type": "execute_result"
    }
   ],
   "source": [
    "PEISBaseData['']"
   ]
  },
  {
   "cell_type": "markdown",
   "metadata": {},
   "source": [
    "# 매출액delta, 이상치 deltaGNOA문제 --> 둘다 inf있노;\n",
    "1. inf의 경우 전년도가 매출액 0 이였음 --> 걍뺴자 inf\n",
    "2, 금융권 친구들이 GNOA 에서 에러가 남 --> 금융권 비금융권 따로 계산해가지고 "
   ]
  },
  {
   "cell_type": "code",
   "execution_count": 43,
   "metadata": {},
   "outputs": [],
   "source": [
    "deltasale_err_index = PEISBaseData[PEISBaseData['deltasale'] == np.inf].index\n",
    "PEISBaseData.drop(deltasale_err_index, inplace = True)"
   ]
  },
  {
   "cell_type": "code",
   "execution_count": 98,
   "metadata": {},
   "outputs": [
    {
     "data": {
      "text/plain": [
       "count    7984.000000\n",
       "mean             inf\n",
       "std              NaN\n",
       "min      -764.560921\n",
       "25%        -0.109396\n",
       "50%         0.000000\n",
       "75%         0.137502\n",
       "max              inf\n",
       "Name: deltaGNOA, dtype: float64"
      ]
     },
     "execution_count": 98,
     "metadata": {},
     "output_type": "execute_result"
    }
   ],
   "source": [
    "PEISBaseData['deltaGNOA'].describe()"
   ]
  },
  {
   "cell_type": "code",
   "execution_count": 49,
   "metadata": {},
   "outputs": [
    {
     "data": {
      "text/html": [
       "<div>\n",
       "<style scoped>\n",
       "    .dataframe tbody tr th:only-of-type {\n",
       "        vertical-align: middle;\n",
       "    }\n",
       "\n",
       "    .dataframe tbody tr th {\n",
       "        vertical-align: top;\n",
       "    }\n",
       "\n",
       "    .dataframe thead th {\n",
       "        text-align: right;\n",
       "    }\n",
       "</style>\n",
       "<table border=\"1\" class=\"dataframe\">\n",
       "  <thead>\n",
       "    <tr style=\"text-align: right;\">\n",
       "      <th></th>\n",
       "      <th>매출액(천원)</th>\n",
       "      <th>deltasale</th>\n",
       "    </tr>\n",
       "  </thead>\n",
       "  <tbody>\n",
       "    <tr>\n",
       "      <th>1166</th>\n",
       "      <td>-7.538471e+06</td>\n",
       "      <td>-1.042741</td>\n",
       "    </tr>\n",
       "    <tr>\n",
       "      <th>1167</th>\n",
       "      <td>2.764051e+08</td>\n",
       "      <td>-37.665939</td>\n",
       "    </tr>\n",
       "    <tr>\n",
       "      <th>3479</th>\n",
       "      <td>-9.397676e+06</td>\n",
       "      <td>-1.940680</td>\n",
       "    </tr>\n",
       "    <tr>\n",
       "      <th>3480</th>\n",
       "      <td>1.716586e+07</td>\n",
       "      <td>-2.826607</td>\n",
       "    </tr>\n",
       "    <tr>\n",
       "      <th>3684</th>\n",
       "      <td>7.952744e+07</td>\n",
       "      <td>-1.508919</td>\n",
       "    </tr>\n",
       "  </tbody>\n",
       "</table>\n",
       "</div>"
      ],
      "text/plain": [
       "           매출액(천원)  deltasale\n",
       "1166 -7.538471e+06  -1.042741\n",
       "1167  2.764051e+08 -37.665939\n",
       "3479 -9.397676e+06  -1.940680\n",
       "3480  1.716586e+07  -2.826607\n",
       "3684  7.952744e+07  -1.508919"
      ]
     },
     "execution_count": 49,
     "metadata": {},
     "output_type": "execute_result"
    }
   ],
   "source": [
    "PEISBaseData[PEISBaseData['deltasale'] < -1][['매출액(천원)','deltasale']]"
   ]
  },
  {
   "cell_type": "code",
   "execution_count": 61,
   "metadata": {},
   "outputs": [
    {
     "data": {
      "text/plain": [
       "Name                8613\n",
       "회계년                 8613\n",
       "Symbol              8613\n",
       "총자산(천원)             8613\n",
       "총자산(평균)(천원)         8613\n",
       "영업이익(천원)            8613\n",
       "매출원가(천원)            8613\n",
       "판매비와관리비(천원)         8613\n",
       "금융원가(비영업)(천원)       8613\n",
       "기타비용(비영업)(천원)       8613\n",
       "보통주자본금(천원)          8613\n",
       "유동부채(천원)            8613\n",
       "비유동부채(천원)           8613\n",
       "우선주자본금(천원)          8613\n",
       "현금및현금성자산(천원)        8613\n",
       "단기사채(천원)            8613\n",
       "단기차입금(천원)           8613\n",
       "매출액(천원)             8613\n",
       "매출총이익(천원)           8613\n",
       "영업활동으로인한현금흐름(천원)    8613\n",
       "매출채권(천원)            8613\n",
       "재고자산(천원)            8613\n",
       "매입채무(천원)            8613\n",
       "ADJprice            8613\n",
       "Consensus           8613\n",
       "deltaprice          8613\n",
       "consen_cut          8613\n",
       "CountNull           8613\n",
       "NetAsset            8613\n",
       "deltaACC            8613\n",
       "RNOA                8613\n",
       "GNOA                8613\n",
       "deltaGNOA           7982\n",
       "SGA                 8613\n",
       "deltaSGA            8613\n",
       "GM                  8613\n",
       "deltaGM1            8603\n",
       "deltasale           8601\n",
       "deltaGM2            8601\n",
       "ATO                 8613\n",
       "deltaATO            8613\n",
       "SGAdeltasale>0      8613\n",
       "SGAdeltasale<0      8613\n",
       "dtype: int64"
      ]
     },
     "execution_count": 61,
     "metadata": {},
     "output_type": "execute_result"
    }
   ],
   "source": [
    "PEISBaseData.count()"
   ]
  },
  {
   "cell_type": "code",
   "execution_count": 67,
   "metadata": {},
   "outputs": [
    {
     "data": {
      "text/plain": [
       "631"
      ]
     },
     "execution_count": 67,
     "metadata": {},
     "output_type": "execute_result"
    }
   ],
   "source": [
    "PEISBaseData['deltaGNOA'].isnull().sum()"
   ]
  },
  {
   "cell_type": "code",
   "execution_count": 68,
   "metadata": {},
   "outputs": [
    {
     "data": {
      "text/plain": [
       "12"
      ]
     },
     "execution_count": 68,
     "metadata": {},
     "output_type": "execute_result"
    }
   ],
   "source": [
    "PEISBaseData['deltasale'].isnull().sum()"
   ]
  },
  {
   "cell_type": "code",
   "execution_count": 69,
   "metadata": {},
   "outputs": [
    {
     "data": {
      "text/plain": [
       "12"
      ]
     },
     "execution_count": 69,
     "metadata": {},
     "output_type": "execute_result"
    }
   ],
   "source": [
    "PEISBaseData['deltaGM2'].isnull().sum()"
   ]
  },
  {
   "cell_type": "code",
   "execution_count": 72,
   "metadata": {},
   "outputs": [
    {
     "data": {
      "text/html": [
       "<div>\n",
       "<style scoped>\n",
       "    .dataframe tbody tr th:only-of-type {\n",
       "        vertical-align: middle;\n",
       "    }\n",
       "\n",
       "    .dataframe tbody tr th {\n",
       "        vertical-align: top;\n",
       "    }\n",
       "\n",
       "    .dataframe thead th {\n",
       "        text-align: right;\n",
       "    }\n",
       "</style>\n",
       "<table border=\"1\" class=\"dataframe\">\n",
       "  <thead>\n",
       "    <tr style=\"text-align: right;\">\n",
       "      <th></th>\n",
       "      <th>매출채권(천원)</th>\n",
       "      <th>재고자산(천원)</th>\n",
       "      <th>매입채무(천원)</th>\n",
       "    </tr>\n",
       "  </thead>\n",
       "  <tbody>\n",
       "    <tr>\n",
       "      <th>96</th>\n",
       "      <td>0.0</td>\n",
       "      <td>0.0</td>\n",
       "      <td>0.0</td>\n",
       "    </tr>\n",
       "    <tr>\n",
       "      <th>97</th>\n",
       "      <td>0.0</td>\n",
       "      <td>0.0</td>\n",
       "      <td>0.0</td>\n",
       "    </tr>\n",
       "    <tr>\n",
       "      <th>98</th>\n",
       "      <td>0.0</td>\n",
       "      <td>0.0</td>\n",
       "      <td>0.0</td>\n",
       "    </tr>\n",
       "    <tr>\n",
       "      <th>99</th>\n",
       "      <td>0.0</td>\n",
       "      <td>0.0</td>\n",
       "      <td>0.0</td>\n",
       "    </tr>\n",
       "    <tr>\n",
       "      <th>175</th>\n",
       "      <td>0.0</td>\n",
       "      <td>0.0</td>\n",
       "      <td>0.0</td>\n",
       "    </tr>\n",
       "    <tr>\n",
       "      <th>...</th>\n",
       "      <td>...</td>\n",
       "      <td>...</td>\n",
       "      <td>...</td>\n",
       "    </tr>\n",
       "    <tr>\n",
       "      <th>8535</th>\n",
       "      <td>0.0</td>\n",
       "      <td>0.0</td>\n",
       "      <td>0.0</td>\n",
       "    </tr>\n",
       "    <tr>\n",
       "      <th>8536</th>\n",
       "      <td>0.0</td>\n",
       "      <td>0.0</td>\n",
       "      <td>0.0</td>\n",
       "    </tr>\n",
       "    <tr>\n",
       "      <th>8537</th>\n",
       "      <td>0.0</td>\n",
       "      <td>0.0</td>\n",
       "      <td>0.0</td>\n",
       "    </tr>\n",
       "    <tr>\n",
       "      <th>8538</th>\n",
       "      <td>0.0</td>\n",
       "      <td>0.0</td>\n",
       "      <td>0.0</td>\n",
       "    </tr>\n",
       "    <tr>\n",
       "      <th>8539</th>\n",
       "      <td>0.0</td>\n",
       "      <td>0.0</td>\n",
       "      <td>0.0</td>\n",
       "    </tr>\n",
       "  </tbody>\n",
       "</table>\n",
       "<p>631 rows × 3 columns</p>\n",
       "</div>"
      ],
      "text/plain": [
       "      매출채권(천원)  재고자산(천원)  매입채무(천원)\n",
       "96         0.0       0.0       0.0\n",
       "97         0.0       0.0       0.0\n",
       "98         0.0       0.0       0.0\n",
       "99         0.0       0.0       0.0\n",
       "175        0.0       0.0       0.0\n",
       "...        ...       ...       ...\n",
       "8535       0.0       0.0       0.0\n",
       "8536       0.0       0.0       0.0\n",
       "8537       0.0       0.0       0.0\n",
       "8538       0.0       0.0       0.0\n",
       "8539       0.0       0.0       0.0\n",
       "\n",
       "[631 rows x 3 columns]"
      ]
     },
     "execution_count": 72,
     "metadata": {},
     "output_type": "execute_result"
    }
   ],
   "source": [
    "PEISBaseData[PEISBaseData['deltaGNOA'].isnull()][['매출채권(천원)','재고자산(천원)','매입채무(천원)']]"
   ]
  },
  {
   "cell_type": "code",
   "execution_count": 74,
   "metadata": {},
   "outputs": [
    {
     "data": {
      "text/plain": [
       "array(['한국자산신탁', '키움증권', '신한지주', '하나금융지주', '오렌지라이프', '우리금융지주', '상상인증권',\n",
       "       'KB손해보험', '한화투자증권', '우리금융캐피탈', '제일저축은행', '미래에셋증권', '우리스팩1호',\n",
       "       '부산은행', '대신증권', '동양생명', '한화생명', '외환은행', '신영증권', '메리츠증권', '삼성생명',\n",
       "       '메리츠금융지주', 'NH농협증권', '화인자산관리', '우리종금', '산은캐피탈', 'JB금융지주',\n",
       "       '솔로몬저축은행', '유화증권', '현대차증권', '한국금융지주', '교보증권', '메리츠화재', 'SBI모기지',\n",
       "       'DB금융투자', '한국토지신탁', '삼성화재', '흥국화재', '롯데손해보험', '기업은행', '부국증권',\n",
       "       'NH투자증권', '미래에셋생명', '한미은행', '우리금융', '현대해상', '한국저축은행', 'DB손해보험',\n",
       "       '대구은행', '한양증권', 'LG카드', '굿모닝신한증권', '그린손해보험', '삼성증권', '제주은행',\n",
       "       '전북은행', '한화손해보험', 'SK증권', '우리은행', '진흥저축은행', '국민은행', '삼성카드',\n",
       "       '유안타증권', '대우증권스팩', 'BNK금융지주', '유진투자증권', '현대증권', 'DGB금융지주', 'KB금융',\n",
       "       '광주은행', '경남은행', '코리안리', '서울저축은행', 'KTB투자증권', '전기초자', '동양밸류스팩',\n",
       "       'KB캐피탈'], dtype=object)"
      ]
     },
     "execution_count": 74,
     "metadata": {},
     "output_type": "execute_result"
    }
   ],
   "source": [
    "PEISBaseData[PEISBaseData['deltaGNOA'].isnull()]['Name'].unique()"
   ]
  },
  {
   "cell_type": "code",
   "execution_count": null,
   "metadata": {},
   "outputs": [],
   "source": [
    "PEISBaseData[PEISBaseData['deltaGNOA'].isnull()]['']"
   ]
  },
  {
   "cell_type": "code",
   "execution_count": 78,
   "metadata": {},
   "outputs": [
    {
     "data": {
      "text/plain": [
       "1811    0.0\n",
       "7172    0.0\n",
       "8148    0.0\n",
       "8149    0.0\n",
       "8150    0.0\n",
       "8151    0.0\n",
       "8152    0.0\n",
       "8153    0.0\n",
       "8154    0.0\n",
       "8155    0.0\n",
       "8272    0.0\n",
       "8273    0.0\n",
       "Name: 매출액(천원), dtype: float64"
      ]
     },
     "execution_count": 78,
     "metadata": {},
     "output_type": "execute_result"
    }
   ],
   "source": [
    "PEISBaseData[PEISBaseData['deltasale'].isnull()]['매출액(천원)']"
   ]
  },
  {
   "cell_type": "code",
   "execution_count": 75,
   "metadata": {},
   "outputs": [
    {
     "data": {
      "text/html": [
       "<div>\n",
       "<style scoped>\n",
       "    .dataframe tbody tr th:only-of-type {\n",
       "        vertical-align: middle;\n",
       "    }\n",
       "\n",
       "    .dataframe tbody tr th {\n",
       "        vertical-align: top;\n",
       "    }\n",
       "\n",
       "    .dataframe thead th {\n",
       "        text-align: right;\n",
       "    }\n",
       "</style>\n",
       "<table border=\"1\" class=\"dataframe\">\n",
       "  <thead>\n",
       "    <tr style=\"text-align: right;\">\n",
       "      <th></th>\n",
       "      <th>매출액(천원)</th>\n",
       "      <th>deltasale</th>\n",
       "    </tr>\n",
       "  </thead>\n",
       "  <tbody>\n",
       "    <tr>\n",
       "      <th>1811</th>\n",
       "      <td>0.0</td>\n",
       "      <td>NaN</td>\n",
       "    </tr>\n",
       "    <tr>\n",
       "      <th>7172</th>\n",
       "      <td>0.0</td>\n",
       "      <td>NaN</td>\n",
       "    </tr>\n",
       "    <tr>\n",
       "      <th>8148</th>\n",
       "      <td>0.0</td>\n",
       "      <td>NaN</td>\n",
       "    </tr>\n",
       "    <tr>\n",
       "      <th>8149</th>\n",
       "      <td>0.0</td>\n",
       "      <td>NaN</td>\n",
       "    </tr>\n",
       "    <tr>\n",
       "      <th>8150</th>\n",
       "      <td>0.0</td>\n",
       "      <td>NaN</td>\n",
       "    </tr>\n",
       "    <tr>\n",
       "      <th>8151</th>\n",
       "      <td>0.0</td>\n",
       "      <td>NaN</td>\n",
       "    </tr>\n",
       "    <tr>\n",
       "      <th>8152</th>\n",
       "      <td>0.0</td>\n",
       "      <td>NaN</td>\n",
       "    </tr>\n",
       "    <tr>\n",
       "      <th>8153</th>\n",
       "      <td>0.0</td>\n",
       "      <td>NaN</td>\n",
       "    </tr>\n",
       "    <tr>\n",
       "      <th>8154</th>\n",
       "      <td>0.0</td>\n",
       "      <td>NaN</td>\n",
       "    </tr>\n",
       "    <tr>\n",
       "      <th>8155</th>\n",
       "      <td>0.0</td>\n",
       "      <td>NaN</td>\n",
       "    </tr>\n",
       "    <tr>\n",
       "      <th>8272</th>\n",
       "      <td>0.0</td>\n",
       "      <td>NaN</td>\n",
       "    </tr>\n",
       "    <tr>\n",
       "      <th>8273</th>\n",
       "      <td>0.0</td>\n",
       "      <td>NaN</td>\n",
       "    </tr>\n",
       "  </tbody>\n",
       "</table>\n",
       "</div>"
      ],
      "text/plain": [
       "      매출액(천원)  deltasale\n",
       "1811      0.0        NaN\n",
       "7172      0.0        NaN\n",
       "8148      0.0        NaN\n",
       "8149      0.0        NaN\n",
       "8150      0.0        NaN\n",
       "8151      0.0        NaN\n",
       "8152      0.0        NaN\n",
       "8153      0.0        NaN\n",
       "8154      0.0        NaN\n",
       "8155      0.0        NaN\n",
       "8272      0.0        NaN\n",
       "8273      0.0        NaN"
      ]
     },
     "execution_count": 75,
     "metadata": {},
     "output_type": "execute_result"
    }
   ],
   "source": [
    "PEISBaseData[PEISBaseData['deltasale'].isnull()][['매출액(천원)','deltasale']]"
   ]
  },
  {
   "cell_type": "code",
   "execution_count": 130,
   "metadata": {},
   "outputs": [
    {
     "data": {
      "text/html": [
       "<div>\n",
       "<style scoped>\n",
       "    .dataframe tbody tr th:only-of-type {\n",
       "        vertical-align: middle;\n",
       "    }\n",
       "\n",
       "    .dataframe tbody tr th {\n",
       "        vertical-align: top;\n",
       "    }\n",
       "\n",
       "    .dataframe thead th {\n",
       "        text-align: right;\n",
       "    }\n",
       "</style>\n",
       "<table border=\"1\" class=\"dataframe\">\n",
       "  <thead>\n",
       "    <tr style=\"text-align: right;\">\n",
       "      <th></th>\n",
       "      <th>회계년</th>\n",
       "      <th>매출액(천원)</th>\n",
       "      <th>deltasale</th>\n",
       "    </tr>\n",
       "  </thead>\n",
       "  <tbody>\n",
       "    <tr>\n",
       "      <th>7171</th>\n",
       "      <td>2010</td>\n",
       "      <td>0.000000e+00</td>\n",
       "      <td>0.0</td>\n",
       "    </tr>\n",
       "    <tr>\n",
       "      <th>7172</th>\n",
       "      <td>2011</td>\n",
       "      <td>0.000000e+00</td>\n",
       "      <td>NaN</td>\n",
       "    </tr>\n",
       "    <tr>\n",
       "      <th>7173</th>\n",
       "      <td>2010</td>\n",
       "      <td>7.997521e+08</td>\n",
       "      <td>0.0</td>\n",
       "    </tr>\n",
       "  </tbody>\n",
       "</table>\n",
       "</div>"
      ],
      "text/plain": [
       "       회계년       매출액(천원)  deltasale\n",
       "7171  2010  0.000000e+00        0.0\n",
       "7172  2011  0.000000e+00        NaN\n",
       "7173  2010  7.997521e+08        0.0"
      ]
     },
     "execution_count": 130,
     "metadata": {},
     "output_type": "execute_result"
    }
   ],
   "source": [
    "PEISBaseData.loc[7171:7173,['회계년','매출액(천원)','deltasale']]"
   ]
  },
  {
   "cell_type": "code",
   "execution_count": 129,
   "metadata": {},
   "outputs": [
    {
     "data": {
      "text/plain": [
       "891"
      ]
     },
     "execution_count": 129,
     "metadata": {},
     "output_type": "execute_result"
    }
   ],
   "source": [
    "len(PEISBaseData['Name'].unique())"
   ]
  },
  {
   "cell_type": "code",
   "execution_count": 119,
   "metadata": {},
   "outputs": [
    {
     "data": {
      "text/html": [
       "<div>\n",
       "<style scoped>\n",
       "    .dataframe tbody tr th:only-of-type {\n",
       "        vertical-align: middle;\n",
       "    }\n",
       "\n",
       "    .dataframe tbody tr th {\n",
       "        vertical-align: top;\n",
       "    }\n",
       "\n",
       "    .dataframe thead th {\n",
       "        text-align: right;\n",
       "    }\n",
       "</style>\n",
       "<table border=\"1\" class=\"dataframe\">\n",
       "  <thead>\n",
       "    <tr style=\"text-align: right;\">\n",
       "      <th></th>\n",
       "      <th>매출액(천원)</th>\n",
       "      <th>deltasale</th>\n",
       "    </tr>\n",
       "  </thead>\n",
       "  <tbody>\n",
       "    <tr>\n",
       "      <th>0</th>\n",
       "      <td>1.562519e+09</td>\n",
       "      <td>0.0</td>\n",
       "    </tr>\n",
       "    <tr>\n",
       "      <th>9</th>\n",
       "      <td>2.198912e+09</td>\n",
       "      <td>0.0</td>\n",
       "    </tr>\n",
       "    <tr>\n",
       "      <th>20</th>\n",
       "      <td>5.124275e+09</td>\n",
       "      <td>0.0</td>\n",
       "    </tr>\n",
       "    <tr>\n",
       "      <th>31</th>\n",
       "      <td>1.417417e+08</td>\n",
       "      <td>0.0</td>\n",
       "    </tr>\n",
       "    <tr>\n",
       "      <th>42</th>\n",
       "      <td>3.941219e+08</td>\n",
       "      <td>0.0</td>\n",
       "    </tr>\n",
       "    <tr>\n",
       "      <th>...</th>\n",
       "      <td>...</td>\n",
       "      <td>...</td>\n",
       "    </tr>\n",
       "    <tr>\n",
       "      <th>8562</th>\n",
       "      <td>6.463960e+07</td>\n",
       "      <td>0.0</td>\n",
       "    </tr>\n",
       "    <tr>\n",
       "      <th>8571</th>\n",
       "      <td>1.033055e+09</td>\n",
       "      <td>0.0</td>\n",
       "    </tr>\n",
       "    <tr>\n",
       "      <th>8582</th>\n",
       "      <td>4.432757e+08</td>\n",
       "      <td>0.0</td>\n",
       "    </tr>\n",
       "    <tr>\n",
       "      <th>8593</th>\n",
       "      <td>2.536586e+08</td>\n",
       "      <td>0.0</td>\n",
       "    </tr>\n",
       "    <tr>\n",
       "      <th>8604</th>\n",
       "      <td>9.504161e+08</td>\n",
       "      <td>0.0</td>\n",
       "    </tr>\n",
       "  </tbody>\n",
       "</table>\n",
       "<p>891 rows × 2 columns</p>\n",
       "</div>"
      ],
      "text/plain": [
       "           매출액(천원)  deltasale\n",
       "0     1.562519e+09        0.0\n",
       "9     2.198912e+09        0.0\n",
       "20    5.124275e+09        0.0\n",
       "31    1.417417e+08        0.0\n",
       "42    3.941219e+08        0.0\n",
       "...            ...        ...\n",
       "8562  6.463960e+07        0.0\n",
       "8571  1.033055e+09        0.0\n",
       "8582  4.432757e+08        0.0\n",
       "8593  2.536586e+08        0.0\n",
       "8604  9.504161e+08        0.0\n",
       "\n",
       "[891 rows x 2 columns]"
      ]
     },
     "execution_count": 119,
     "metadata": {},
     "output_type": "execute_result"
    }
   ],
   "source": [
    "PEISBaseData[PEISBaseData['deltasale'] == 0][['매출액(천원)','deltasale']]"
   ]
  },
  {
   "cell_type": "markdown",
   "metadata": {},
   "source": [
    "# 2. 가공된 데이터 토대로 +1,-1,0 구하기 (년도별로)"
   ]
  },
  {
   "cell_type": "code",
   "execution_count": 79,
   "metadata": {},
   "outputs": [],
   "source": [
    "Yearlydfs = yearbaseDFs(PEISBaseData, years =[2011,2012,2013,2014,2015,2016,2017,2018,2019,2020])\n",
    "PEISBaseData = CalPEISpoints(Yearlydfs)"
   ]
  },
  {
   "cell_type": "markdown",
   "metadata": {},
   "source": [
    "# 3. PEIS 점수 구하기 (단순 행 sum)"
   ]
  },
  {
   "cell_type": "code",
   "execution_count": 80,
   "metadata": {},
   "outputs": [],
   "source": [
    "PEISBaseData = CalPEIS(PEISBaseData)"
   ]
  },
  {
   "cell_type": "markdown",
   "metadata": {},
   "source": [
    "# 4. 년도 별 포트폴리오 구하기 위해 년도 별로 나누기"
   ]
  },
  {
   "cell_type": "code",
   "execution_count": 81,
   "metadata": {},
   "outputs": [],
   "source": [
    "dfs = yearbaseDFs(PEISBaseData, years = [2011,2012,2013,2014,2015,2016,2017,2018,2019,2020])"
   ]
  },
  {
   "cell_type": "markdown",
   "metadata": {},
   "source": [
    "## 5. 조건 & 년도별로 포트폴리오 수익률 구하기 (equally weight)"
   ]
  },
  {
   "cell_type": "code",
   "execution_count": 10,
   "metadata": {},
   "outputs": [
    {
     "data": {
      "text/plain": [
       "0.12086963609933053"
      ]
     },
     "execution_count": 10,
     "metadata": {},
     "output_type": "execute_result"
    }
   ],
   "source": [
    "PEISbuyport = Upper20Port(dfs,\"valPEIS\")\n",
    "np.mean(PEISbuyport)"
   ]
  },
  {
   "cell_type": "markdown",
   "metadata": {},
   "source": [
    "# 6. 엑셀로 보내기 "
   ]
  },
  {
   "cell_type": "code",
   "execution_count": 11,
   "metadata": {},
   "outputs": [],
   "source": [
    "writer = pd.ExcelWriter('Result/Compute_PEIS.xlsx', engine='xlsxwriter')"
   ]
  },
  {
   "cell_type": "code",
   "execution_count": 12,
   "metadata": {},
   "outputs": [],
   "source": [
    "# 이거 나중에 수정 필요\n",
    "collist=['ADJprice', 'Consensus',\\\n",
    "       'deltaprice', 'CountNull', 'NetAsset', 'deltaACC', 'RNOA', 'GNOA',\\\n",
    "       'deltaGNOA', 'SGA', 'deltaSGA', 'GM', 'deltaGM1', 'deltasale',\\\n",
    "       'deltaGM2', 'ATO', 'deltaATO', 'SGAdeltasale>0', 'SGAdeltasale<0',\\\n",
    "       'GNOAPEISpoint', 'deltaATOPEISpoint', 'deltaGM2PEISpoint',\\\n",
    "       'deltaACCPEISpoint', 'RNOAPEISpoint', 'SGAdeltasale>0PEISpoint',\\\n",
    "       'SGAdeltasale<0PEISpoint', 'valPEIS']"
   ]
  },
  {
   "cell_type": "code",
   "execution_count": 13,
   "metadata": {},
   "outputs": [],
   "source": [
    "Computed = PEISBaseData[collist]"
   ]
  },
  {
   "cell_type": "code",
   "execution_count": 14,
   "metadata": {},
   "outputs": [],
   "source": [
    "PEISBaseData.to_excel(writer,sheet_name = 'All_data')\n",
    "Computed.to_excel(writer,sheet_name = 'Computed')"
   ]
  },
  {
   "cell_type": "code",
   "execution_count": 15,
   "metadata": {},
   "outputs": [],
   "source": [
    "writer.save()"
   ]
  },
  {
   "cell_type": "markdown",
   "metadata": {},
   "source": [
    "# 이 아래에서는 이것저것 실험"
   ]
  },
  {
   "cell_type": "code",
   "execution_count": null,
   "metadata": {},
   "outputs": [],
   "source": []
  }
 ],
 "metadata": {
  "kernelspec": {
   "display_name": "Python 3",
   "language": "python",
   "name": "python3"
  },
  "language_info": {
   "codemirror_mode": {
    "name": "ipython",
    "version": 3
   },
   "file_extension": ".py",
   "mimetype": "text/x-python",
   "name": "python",
   "nbconvert_exporter": "python",
   "pygments_lexer": "ipython3",
   "version": "3.7.6"
  }
 },
 "nbformat": 4,
 "nbformat_minor": 4
}
