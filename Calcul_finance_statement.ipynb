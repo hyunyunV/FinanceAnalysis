{
 "cells": [
  {
   "cell_type": "markdown",
   "metadata": {},
   "source": [
    "# 목표 PEIS점수 내기 & 안쓰는 기업년도 다 빼기"
   ]
  },
  {
   "cell_type": "markdown",
   "metadata": {},
   "source": [
    "# 필요 모듈"
   ]
  },
  {
   "cell_type": "code",
   "execution_count": 4,
   "metadata": {},
   "outputs": [],
   "source": [
    "import pandas as pd\n",
    "import numpy as np\n",
    "import warnings\n",
    "import matplotlib.pyplot as plt\n",
    "import seaborn as sns\n",
    "\n",
    "from Fin import *\n",
    "warnings.filterwarnings(action='ignore')"
   ]
  },
  {
   "cell_type": "markdown",
   "metadata": {},
   "source": [
    "# 0. 엑셀읽기"
   ]
  },
  {
   "cell_type": "code",
   "execution_count": 6,
   "metadata": {},
   "outputs": [],
   "source": [
    "df = pd.read_excel(\"Data/kospi/KospiPEISData&PriceData.xlsx\")"
   ]
  },
  {
   "cell_type": "markdown",
   "metadata": {},
   "source": [
    "# 1. 안쓰는거 (NULL값 20개 이상) 제거"
   ]
  },
  {
   "cell_type": "code",
   "execution_count": 7,
   "metadata": {},
   "outputs": [],
   "source": [
    "df = Cut20NullfillNA(df)"
   ]
  },
  {
   "cell_type": "markdown",
   "metadata": {},
   "source": [
    "# 2. PEIS를 구하기 위한 기초데이터들 연산해보기 \n",
    "## (한꺼번에 계산해서 앞년 뒷년버리기)"
   ]
  },
  {
   "cell_type": "code",
   "execution_count": 8,
   "metadata": {},
   "outputs": [],
   "source": [
    "PEISBaseData = CompuMoreData(df)\n",
    "PEISBaseData = setSGA(PEISBaseData)\n",
    "PEISBaseData.to_excel('temp/kospi/PEISBaseCompu.xlsx',index=False)"
   ]
  },
  {
   "cell_type": "markdown",
   "metadata": {},
   "source": [
    "# 3. Drop데이터들 Drop 시키기\n",
    "1. 회계년 08 09 20 21은 사용 불가능함 \n",
    "2. deltaprice 0 99 inf는 연산중에 나온 오류\n",
    "3. PEIS 점수 에러나는 것들은 좀 특이케이스도 있고 상폐전후로 생기는 에러가 있음 특이케이스는 얼마안대서 괜찮은듯"
   ]
  },
  {
   "cell_type": "code",
   "execution_count": 9,
   "metadata": {},
   "outputs": [
    {
     "name": "stdout",
     "output_type": "stream",
     "text": [
      "(7320, 52)\n"
     ]
    }
   ],
   "source": [
    "dropdata(PEISBaseData, '회계년', [2008, 2009, 2020, 2021])\n",
    "dropdata(PEISBaseData, 'deltaprice', [0, 99, np.inf])\n",
    "dropdata(PEISBaseData, 'deltaACC', [np.inf, -np.inf])\n",
    "dropdata(PEISBaseData, 'RNOA', [0]) # 그냥 연도 넘어가면서 이상해지는 것들 제거 \n",
    "dropdata(PEISBaseData, 'SGAp', [np.inf, -np.inf]) # 그냥 매출액이 0인 경우도 있음.. 이건 뭐 어쩌란건지 원 \n",
    "dropdata(PEISBaseData, 'deltaGM1', [np.inf, -np.inf]) # 그냥 매출액이 0인 경우도 있음.. 이건 뭐 어쩌란건지 원 \n",
    "print(PEISBaseData.shape)"
   ]
  },
  {
   "cell_type": "markdown",
   "metadata": {},
   "source": [
    "# 4. 가공된 데이터 토대로 +1,-1,0 구하기 (년도별로)"
   ]
  },
  {
   "cell_type": "code",
   "execution_count": 10,
   "metadata": {},
   "outputs": [
    {
     "data": {
      "text/plain": [
       "(7320, 59)"
      ]
     },
     "execution_count": 10,
     "metadata": {},
     "output_type": "execute_result"
    }
   ],
   "source": [
    "Yearlydfs = yearbaseDFs(PEISBaseData, years =[2010,2011,2012,2013,2014,2015,2016,2017,2018,2019])\n",
    "PEISBaseData = CalPEISpoints(Yearlydfs)\n",
    "PEISBaseData.shape"
   ]
  },
  {
   "cell_type": "markdown",
   "metadata": {},
   "source": [
    "# 5. PEIS 점수 구하기 (단순 행 sum)"
   ]
  },
  {
   "cell_type": "code",
   "execution_count": 11,
   "metadata": {},
   "outputs": [],
   "source": [
    "PEISBaseData = CalPEIS(PEISBaseData)"
   ]
  },
  {
   "cell_type": "markdown",
   "metadata": {},
   "source": [
    "# 6. 저장하기\n",
    "* PEIS,Stock 계산확인용 엑셀 하나 필요\n",
    "* 년도 적절한지 + 값이 정확히 계산되어있는지 특수케이스(중간 상폐,상장 정도만 확인하면 댈듯? 앞뒤년도 짜르고)"
   ]
  },
  {
   "cell_type": "code",
   "execution_count": 12,
   "metadata": {},
   "outputs": [],
   "source": [
    "PEISBaseData.to_excel('Data/kospi/Alldata.xlsx', index = False)"
   ]
  },
  {
   "cell_type": "markdown",
   "metadata": {},
   "source": [
    "#\n",
    "\n",
    "#\n",
    "\n",
    "#\n",
    "\n",
    "#\n",
    "\n",
    "#\n",
    "\n",
    "#\n",
    "\n",
    "# assert 공간 아래는 포트폴리오 부분에서 구현하는 게 좋을 것 같음 class랑 Stat은 따로 만드는게 좋을 듯 \n",
    "\n",
    "# 그리고 모든게 괜찮다고 판단되면 코스닥도 해줘야함"
   ]
  },
  {
   "cell_type": "code",
   "execution_count": 13,
   "metadata": {},
   "outputs": [],
   "source": [
    "test = PEISBaseData[['SGAdeltasale>0PEISpoint','SGAdeltasale<0PEISpoint','GNOAPEISpoint','deltaATOPEISpoint','deltaGMPEISpoint','deltaACCPEISpoint','RNOAPEISpoint']]!=0"
   ]
  },
  {
   "cell_type": "code",
   "execution_count": 14,
   "metadata": {},
   "outputs": [
    {
     "data": {
      "text/plain": [
       "SGAdeltasale>0PEISpoint    1840\n",
       "SGAdeltasale<0PEISpoint    1108\n",
       "GNOAPEISpoint              2936\n",
       "deltaATOPEISpoint          2936\n",
       "deltaGMPEISpoint           2936\n",
       "deltaACCPEISpoint          2936\n",
       "RNOAPEISpoint              2936\n",
       "dtype: int64"
      ]
     },
     "execution_count": 14,
     "metadata": {},
     "output_type": "execute_result"
    }
   ],
   "source": [
    "test.sum()"
   ]
  },
  {
   "cell_type": "markdown",
   "metadata": {},
   "source": [
    "# 코스닥"
   ]
  },
  {
   "cell_type": "markdown",
   "metadata": {},
   "source": [
    "# 0. 엑셀읽기"
   ]
  },
  {
   "cell_type": "code",
   "execution_count": 15,
   "metadata": {},
   "outputs": [],
   "source": [
    "df = pd.read_excel(\"Data/kosdaq/KosdaqPEISData&PriceData.xlsx\")"
   ]
  },
  {
   "cell_type": "markdown",
   "metadata": {},
   "source": [
    "# 1. 안쓰는거 (NULL값 20개 이상) 제거"
   ]
  },
  {
   "cell_type": "code",
   "execution_count": 16,
   "metadata": {},
   "outputs": [],
   "source": [
    "df = Cut20NullfillNA(df)"
   ]
  },
  {
   "cell_type": "markdown",
   "metadata": {},
   "source": [
    "# 2. PEIS를 구하기 위한 기초데이터들 연산해보기 \n",
    "## (한꺼번에 계산해서 앞년 뒷년버리기)"
   ]
  },
  {
   "cell_type": "code",
   "execution_count": 17,
   "metadata": {},
   "outputs": [],
   "source": [
    "PEISBaseData = CompuMoreData(df)\n",
    "PEISBaseData = setSGA(PEISBaseData)\n",
    "PEISBaseData.to_excel('temp/kosdaq/PEISBaseCompu.xlsx',index=False)"
   ]
  },
  {
   "cell_type": "markdown",
   "metadata": {},
   "source": [
    "# 3. Drop데이터들 Drop 시키기\n",
    "1. 회계년 08 09 20 21은 사용 불가능함 \n",
    "2. deltaprice 0 99 inf는 연산중에 나온 오류\n",
    "3. PEIS 점수 에러나는 것들은 좀 특이케이스도 있고 상폐전후로 생기는 에러가 있음 특이케이스는 얼마안대서 괜찮은듯"
   ]
  },
  {
   "cell_type": "code",
   "execution_count": 18,
   "metadata": {},
   "outputs": [
    {
     "name": "stdout",
     "output_type": "stream",
     "text": [
      "(10970, 52)\n"
     ]
    }
   ],
   "source": [
    "dropdata(PEISBaseData, '회계년', [2008, 2009, 2020, 2021])\n",
    "dropdata(PEISBaseData, 'deltaprice', [0, 99, np.inf])\n",
    "dropdata(PEISBaseData, 'deltaACC', [np.inf, -np.inf])\n",
    "dropdata(PEISBaseData, 'RNOA', [0]) # 그냥 연도 넘어가면서 이상해지는 것들 제거 \n",
    "dropdata(PEISBaseData, 'SGAp', [np.inf, -np.inf]) # 그냥 매출액이 0인 경우도 있음.. 이건 뭐 어쩌란건지 원 \n",
    "dropdata(PEISBaseData, 'deltaGM1', [np.inf, -np.inf]) # 그냥 매출액이 0인 경우도 있음.. 이건 뭐 어쩌란건지 원 \n",
    "print(PEISBaseData.shape)"
   ]
  },
  {
   "cell_type": "markdown",
   "metadata": {},
   "source": [
    "# 4. 가공된 데이터 토대로 +1,-1,0 구하기 (년도별로)"
   ]
  },
  {
   "cell_type": "code",
   "execution_count": 19,
   "metadata": {},
   "outputs": [
    {
     "data": {
      "text/plain": [
       "(10970, 59)"
      ]
     },
     "execution_count": 19,
     "metadata": {},
     "output_type": "execute_result"
    }
   ],
   "source": [
    "Yearlydfs = yearbaseDFs(PEISBaseData, years =[2010,2011,2012,2013,2014,2015,2016,2017,2018,2019])\n",
    "PEISBaseData = CalPEISpoints(Yearlydfs)\n",
    "PEISBaseData.shape"
   ]
  },
  {
   "cell_type": "markdown",
   "metadata": {},
   "source": [
    "# 5. PEIS 점수 구하기 (단순 행 sum)"
   ]
  },
  {
   "cell_type": "code",
   "execution_count": 20,
   "metadata": {},
   "outputs": [],
   "source": [
    "PEISBaseData = CalPEIS(PEISBaseData)"
   ]
  },
  {
   "cell_type": "markdown",
   "metadata": {},
   "source": [
    "# 6. 저장하기\n",
    "* PEIS,Stock 계산확인용 엑셀 하나 필요\n",
    "* 년도 적절한지 + 값이 정확히 계산되어있는지 특수케이스(중간 상폐,상장 정도만 확인하면 댈듯? 앞뒤년도 짜르고)"
   ]
  },
  {
   "cell_type": "code",
   "execution_count": 21,
   "metadata": {},
   "outputs": [],
   "source": [
    "PEISBaseData.to_excel('Data/kosdaq/Alldata.xlsx', index = False)"
   ]
  },
  {
   "cell_type": "code",
   "execution_count": null,
   "metadata": {},
   "outputs": [],
   "source": []
  }
 ],
 "metadata": {
  "kernelspec": {
   "display_name": "Python 3",
   "language": "python",
   "name": "python3"
  },
  "language_info": {
   "codemirror_mode": {
    "name": "ipython",
    "version": 3
   },
   "file_extension": ".py",
   "mimetype": "text/x-python",
   "name": "python",
   "nbconvert_exporter": "python",
   "pygments_lexer": "ipython3",
   "version": "3.7.6"
  }
 },
 "nbformat": 4,
 "nbformat_minor": 4
}
