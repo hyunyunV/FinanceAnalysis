{
 "cells": [
  {
   "cell_type": "markdown",
   "metadata": {},
   "source": [
    "# 중요 결정사항 및 설명란"
   ]
  },
  {
   "cell_type": "markdown",
   "metadata": {},
   "source": [
    "# 필요 모듈"
   ]
  },
  {
   "cell_type": "code",
   "execution_count": 1,
   "metadata": {},
   "outputs": [],
   "source": [
    "import pandas as pd\n",
    "import numpy as np\n",
    "import warnings\n",
    "import matplotlib.pyplot as plt\n",
    "import seaborn as sns\n",
    "\n",
    "from Fin import *\n",
    "warnings.filterwarnings(action='ignore')"
   ]
  },
  {
   "cell_type": "markdown",
   "metadata": {},
   "source": [
    "# 0. 엑셀읽기"
   ]
  },
  {
   "cell_type": "code",
   "execution_count": 2,
   "metadata": {},
   "outputs": [],
   "source": [
    "df = pd.read_excel(\"Data/KospiPEISData&PriceData.xlsx\")\n",
    "df = Cut20NullfillNA(df)\n",
    "# 여기서 deltaprice이상한거 제거하기"
   ]
  },
  {
   "cell_type": "markdown",
   "metadata": {},
   "source": [
    "# 1. PEIS를 구하기 위한 기초데이터들 연산해보기 (기업별로)\n",
    "* table 5로 기업별로 PEIS 기반 점수 구함"
   ]
  },
  {
   "cell_type": "code",
   "execution_count": 3,
   "metadata": {},
   "outputs": [],
   "source": [
    "PEISBaseData = CompuMoreData(df)\n",
    "PEISBaseData = setSGA(PEISBaseData)"
   ]
  },
  {
   "cell_type": "code",
   "execution_count": 4,
   "metadata": {},
   "outputs": [
    {
     "data": {
      "text/plain": [
       "(8456, 45)"
      ]
     },
     "execution_count": 4,
     "metadata": {},
     "output_type": "execute_result"
    }
   ],
   "source": [
    "PEISBaseData.shape"
   ]
  },
  {
   "cell_type": "markdown",
   "metadata": {},
   "source": [
    "# Drop 시킬 데이터 코드모음 --> 나중에 deltaprice해야함\n",
    "1. 일단 deltaprice 0 , 99 , inf 삭제\n",
    "2. 년도 08, 09 ,20 ,21 삭제 20--> 이거는 나중에 가지고 있는 것도 좋을 것 같네\n",
    "3. GNOA도 문제임 \n",
    "\n",
    "* 원하는 결과 --> Null 값과 이상치가 없는게 여기서 이뤄져야함 그래야 PEIS점수 깔끔하게 구하기 가능 ㅇㅇ"
   ]
  },
  {
   "cell_type": "markdown",
   "metadata": {},
   "source": [
    "# 매출액delta, 이상치 deltaGNOA문제 --> 둘다 inf있노;\n",
    "0. 내 생각엔 기간을 2기간 잡아먹는 deltaATO에서 무조건 문제생김\n",
    "1. inf의 경우 전년도가 매출액 0 이였음 --> 걍뺴자 inf\n",
    "2, 금융권 친구들이 GNOA 에서 에러가 남 --> 금융권 비금융권 따로 계산해가지고 "
   ]
  },
  {
   "cell_type": "code",
   "execution_count": 5,
   "metadata": {},
   "outputs": [
    {
     "data": {
      "text/plain": [
       "(5793, 45)"
      ]
     },
     "execution_count": 5,
     "metadata": {},
     "output_type": "execute_result"
    }
   ],
   "source": [
    "dropdata(PEISBaseData, '회계년', [2010, 2011, 2020, 2021])\n",
    "dropdata(PEISBaseData, 'deltaprice', [0, 99, np.inf])\n",
    "dropdata(PEISBaseData, 'deltaACC', [np.inf, -np.inf])\n",
    "dropdata(PEISBaseData, 'RNOA', [0]) # 그냥 연도 넘어가면서 이상해지는 것들 제거 \n",
    "dropdata(PEISBaseData, 'SGAp', [np.inf, -np.inf]) # 그냥 매출액이 0인 경우도 있음.. 이건 뭐 어쩌란건지 원 \n",
    "dropdata(PEISBaseData, 'deltaGM1', [np.inf, -np.inf]) # 그냥 매출액이 0인 경우도 있음.. 이건 뭐 어쩌란건지 원 \n",
    "PEISBaseData.shape"
   ]
  },
  {
   "cell_type": "markdown",
   "metadata": {},
   "source": [
    "# 2. 가공된 데이터 토대로 +1,-1,0 구하기 (년도별로)"
   ]
  },
  {
   "cell_type": "code",
   "execution_count": 6,
   "metadata": {},
   "outputs": [],
   "source": [
    "Yearlydfs = yearbaseDFs(PEISBaseData, years =[2012,2013,2014,2015,2016,2017,2018,2019])\n",
    "# --> years --> 10~19 까지만 사용 yeardata = [2010,2011,2012,2013,2014,2015,2016,2017,2018,2019]\n",
    "PEISBaseData = CalPEISpoints(Yearlydfs)"
   ]
  },
  {
   "cell_type": "markdown",
   "metadata": {},
   "source": [
    "# 3. PEIS 점수 구하기 (단순 행 sum)"
   ]
  },
  {
   "cell_type": "code",
   "execution_count": 7,
   "metadata": {},
   "outputs": [],
   "source": [
    "PEISBaseData = CalPEIS(PEISBaseData)"
   ]
  },
  {
   "cell_type": "code",
   "execution_count": 18,
   "metadata": {},
   "outputs": [],
   "source": [
    "test = PEISBaseData[['SGAdeltasale>0PEISpoint','SGAdeltasale<0PEISpoint','GNOAPEISpoint','deltaATOPEISpoint','deltaGMPEISpoint','deltaACCPEISpoint','RNOAPEISpoint']]!=0"
   ]
  },
  {
   "cell_type": "code",
   "execution_count": 19,
   "metadata": {},
   "outputs": [
    {
     "data": {
      "text/plain": [
       "SGAdeltasale>0PEISpoint    1400\n",
       "SGAdeltasale<0PEISpoint     936\n",
       "GNOAPEISpoint              2322\n",
       "deltaATOPEISpoint          2322\n",
       "deltaGMPEISpoint           2322\n",
       "deltaACCPEISpoint          2322\n",
       "RNOAPEISpoint              2322\n",
       "dtype: int64"
      ]
     },
     "execution_count": 19,
     "metadata": {},
     "output_type": "execute_result"
    }
   ],
   "source": [
    "test.sum()"
   ]
  },
  {
   "cell_type": "markdown",
   "metadata": {},
   "source": [
    "# 4. 저장하기"
   ]
  },
  {
   "cell_type": "code",
   "execution_count": 21,
   "metadata": {},
   "outputs": [],
   "source": [
    "PEISBaseData.to_excel('Data/Alldata.xlsx', index = False)"
   ]
  },
  {
   "cell_type": "markdown",
   "metadata": {},
   "source": [
    "# 4. 년도 별 포트폴리오 구하기 위해 년도 별로 나누기 -- 근데 이거는 포트폴리오 부분에서 따로하는게 좋을 듯"
   ]
  },
  {
   "cell_type": "code",
   "execution_count": 81,
   "metadata": {},
   "outputs": [],
   "source": [
    "dfs = yearbaseDFs(PEISBaseData, years = [2011,2012,2013,2014,2015,2016,2017,2018,2019,2020])"
   ]
  },
  {
   "cell_type": "markdown",
   "metadata": {},
   "source": [
    "## 5. 조건 & 년도별로 포트폴리오 수익률 구하기 (equally weight)"
   ]
  },
  {
   "cell_type": "code",
   "execution_count": 10,
   "metadata": {},
   "outputs": [
    {
     "data": {
      "text/plain": [
       "0.12086963609933053"
      ]
     },
     "execution_count": 10,
     "metadata": {},
     "output_type": "execute_result"
    }
   ],
   "source": [
    "PEISbuyport = Upper20Port(dfs,\"valPEIS\")\n",
    "np.mean(PEISbuyport)"
   ]
  },
  {
   "cell_type": "markdown",
   "metadata": {},
   "source": [
    "# 6. 엑셀로 보내기 "
   ]
  },
  {
   "cell_type": "code",
   "execution_count": 11,
   "metadata": {},
   "outputs": [],
   "source": [
    "writer = pd.ExcelWriter('Result/Compute_PEIS.xlsx', engine='xlsxwriter')"
   ]
  },
  {
   "cell_type": "code",
   "execution_count": 12,
   "metadata": {},
   "outputs": [],
   "source": [
    "# 이거 나중에 수정 필요\n",
    "collist=['ADJprice', 'Consensus',\\\n",
    "       'deltaprice', 'CountNull', 'NetAsset', 'deltaACC', 'RNOA', 'GNOA',\\\n",
    "       'deltaGNOA', 'SGA', 'deltaSGA', 'GM', 'deltaGM1', 'deltasale',\\\n",
    "       'deltaGM2', 'ATO', 'deltaATO', 'SGAdeltasale>0', 'SGAdeltasale<0',\\\n",
    "       'GNOAPEISpoint', 'deltaATOPEISpoint', 'deltaGM2PEISpoint',\\\n",
    "       'deltaACCPEISpoint', 'RNOAPEISpoint', 'SGAdeltasale>0PEISpoint',\\\n",
    "       'SGAdeltasale<0PEISpoint', 'valPEIS']"
   ]
  },
  {
   "cell_type": "code",
   "execution_count": 13,
   "metadata": {},
   "outputs": [],
   "source": [
    "Computed = PEISBaseData[collist]"
   ]
  },
  {
   "cell_type": "code",
   "execution_count": 14,
   "metadata": {},
   "outputs": [],
   "source": [
    "PEISBaseData.to_excel(writer,sheet_name = 'All_data')\n",
    "Computed.to_excel(writer,sheet_name = 'Computed')"
   ]
  },
  {
   "cell_type": "code",
   "execution_count": 15,
   "metadata": {},
   "outputs": [],
   "source": [
    "writer.save()"
   ]
  },
  {
   "cell_type": "markdown",
   "metadata": {},
   "source": [
    "# 이 아래에서는 이것저것 실험"
   ]
  },
  {
   "cell_type": "code",
   "execution_count": 149,
   "metadata": {},
   "outputs": [
    {
     "data": {
      "text/plain": [
       "array([  1,  23, 321,  42,   3,   5], dtype=int64)"
      ]
     },
     "execution_count": 149,
     "metadata": {},
     "output_type": "execute_result"
    }
   ],
   "source": [
    "pd.Series([1,23,321,42,3,1,5]).unique()"
   ]
  },
  {
   "cell_type": "code",
   "execution_count": 159,
   "metadata": {},
   "outputs": [
    {
     "data": {
      "text/plain": [
       "Name                 784\n",
       "회계년                    8\n",
       "Symbol               786\n",
       "총자산(천원)             5793\n",
       "총자산(평균)(천원)         5793\n",
       "영업이익(천원)            5793\n",
       "매출원가(천원)            5480\n",
       "판매비와관리비(천원)         5793\n",
       "금융원가(비영업)(천원)       5350\n",
       "기타비용(비영업)(천원)       5791\n",
       "보통주자본금(천원)          1921\n",
       "유동부채(천원)            5421\n",
       "비유동부채(천원)           5413\n",
       "우선주자본금(천원)           246\n",
       "현금및현금성자산(천원)        5793\n",
       "단기사채(천원)             349\n",
       "단기차입금(천원)           4423\n",
       "매출액(천원)             5793\n",
       "매출총이익(천원)           5793\n",
       "영업활동으로인한현금흐름(천원)    5793\n",
       "매출채권(천원)            5397\n",
       "재고자산(천원)            5299\n",
       "매입채무(천원)            5291\n",
       "ADJprice            3490\n",
       "Consensus             91\n",
       "deltaprice          5633\n",
       "consen_cut             5\n",
       "CompuConsen            1\n",
       "CountNull              3\n",
       "NOA                 5793\n",
       "AVGNOA              5793\n",
       "RNOA                5793\n",
       "GNOA                5793\n",
       "deltaACC            5793\n",
       "GM1                 5793\n",
       "deltaGM1            5793\n",
       "deltasale           5793\n",
       "deltaGM             5491\n",
       "ATO                 5793\n",
       "deltaATO            5793\n",
       "SGA                 5793\n",
       "SGAp                5793\n",
       "deltaSGA            5793\n",
       "SGAdeltasale>0      3475\n",
       "SGAdeltasale<0      2320\n",
       "dtype: int64"
      ]
     },
     "execution_count": 159,
     "metadata": {},
     "output_type": "execute_result"
    }
   ],
   "source": [
    "PEISBaseData.T.apply(lambda x : len(x.unique()), axis=1)"
   ]
  },
  {
   "cell_type": "code",
   "execution_count": 162,
   "metadata": {},
   "outputs": [
    {
     "data": {
      "text/plain": [
       "-0.012982921235063024"
      ]
     },
     "execution_count": 162,
     "metadata": {},
     "output_type": "execute_result"
    }
   ],
   "source": [
    "PEISBaseData['SGAdeltasale>0'].quantile(0.2)"
   ]
  },
  {
   "cell_type": "code",
   "execution_count": 169,
   "metadata": {},
   "outputs": [
    {
     "data": {
      "text/plain": [
       "-1.2389015168630126"
      ]
     },
     "execution_count": 169,
     "metadata": {},
     "output_type": "execute_result"
    }
   ],
   "source": [
    "np.percentile(PEISBaseData['SGAdeltasale>0'].unique(),0.2)"
   ]
  },
  {
   "cell_type": "code",
   "execution_count": 170,
   "metadata": {},
   "outputs": [
    {
     "data": {
      "text/plain": [
       "5793"
      ]
     },
     "execution_count": 170,
     "metadata": {},
     "output_type": "execute_result"
    }
   ],
   "source": [
    "len(PEISBaseData['SGAdeltasale>0'])"
   ]
  },
  {
   "cell_type": "code",
   "execution_count": null,
   "metadata": {},
   "outputs": [],
   "source": []
  }
 ],
 "metadata": {
  "kernelspec": {
   "display_name": "Python 3",
   "language": "python",
   "name": "python3"
  },
  "language_info": {
   "codemirror_mode": {
    "name": "ipython",
    "version": 3
   },
   "file_extension": ".py",
   "mimetype": "text/x-python",
   "name": "python",
   "nbconvert_exporter": "python",
   "pygments_lexer": "ipython3",
   "version": "3.7.6"
  }
 },
 "nbformat": 4,
 "nbformat_minor": 4
}
