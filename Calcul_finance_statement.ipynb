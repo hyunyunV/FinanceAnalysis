{
 "cells": [
  {
   "cell_type": "markdown",
   "metadata": {},
   "source": [
    "# 중요 결정사항 및 설명란\n",
    "deltaprice = (t+1주가) - (t주가) / (t주가) --> 향후 1년 상승측정 \n",
    "* 1. deltaprice에서 0은 상폐년도인 것 같음.. 확인 필요 왜냐면 주가 있다가 내년에 사라진거니깐 \n",
    "* 2. deltaprice에서 99는 deltaprice연산때 Null값 나온거임 해당년도에 상장되어 있지 않기때문인 듯\n",
    "* 3. Consensus 0(의견없음)이 존나 많음, 그리고 hold랑 sell이 전체년도에서 100개 수준인 것 같음\n",
    "* 4. 처음에 Cut20NullfillNA에서 쓸모없는 데이터 버리는데, 여기서 기본 PEIS데이터만 있을때 20개 NULL값 있는거만 쓸모없었고 나머지는 0 채워서 쓰면댈 듯 근데 은행들 이런친구들은 아에안쓰는 항목들은 PEIS지표에 어떻게 영향을 줄진 모르겠음\n",
    "* 5. 2010년 2021년 데이터는 없어도 댐 쓰면도 안댐"
   ]
  },
  {
   "cell_type": "markdown",
   "metadata": {},
   "source": [
    "###     나중에 kospi, kosdaq 별로 따로 읽어서 처리 행야함 + 내 생각에 다중회귀분석은 따로 만들어야할 듯 "
   ]
  },
  {
   "cell_type": "markdown",
   "metadata": {},
   "source": [
    "# 필요 모듈"
   ]
  },
  {
   "cell_type": "code",
   "execution_count": 1,
   "metadata": {},
   "outputs": [],
   "source": [
    "import pandas as pd\n",
    "import numpy as np\n",
    "import warnings\n",
    "from Fin import *\n",
    "warnings.filterwarnings(action='ignore')"
   ]
  },
  {
   "cell_type": "markdown",
   "metadata": {},
   "source": [
    "# 0. 엑셀읽기"
   ]
  },
  {
   "cell_type": "code",
   "execution_count": 2,
   "metadata": {},
   "outputs": [],
   "source": [
    "df = pd.read_excel(\"Data/KospiPEISData&PriceData.xlsx\")\n",
    "df = Cut20NullfillNA(df)\n",
    "\n",
    "# 여기서 deltaprice이상한거 제거하기\n",
    "# 여기서부터 년도 별로 나누기 해야할 가능성 있음"
   ]
  },
  {
   "cell_type": "code",
   "execution_count": 3,
   "metadata": {},
   "outputs": [],
   "source": [
    "df = df.drop(df[ (df['deltaprice']==99) | (df['deltaprice']==np.inf)].index)"
   ]
  },
  {
   "cell_type": "markdown",
   "metadata": {},
   "source": [
    "# 1. PEIS를 구하기 위한 기초데이터들 연산해보기 (기업별로)"
   ]
  },
  {
   "cell_type": "code",
   "execution_count": 4,
   "metadata": {},
   "outputs": [],
   "source": [
    "PEISBaseData = CompuMoreData(df)\n",
    "PEISBaseData = setSGA(PEISBaseData)"
   ]
  },
  {
   "cell_type": "markdown",
   "metadata": {},
   "source": [
    "# 2. 가공된 데이터 토대로 +1,-1,0 구하기 (년도별로)"
   ]
  },
  {
   "cell_type": "code",
   "execution_count": 6,
   "metadata": {},
   "outputs": [],
   "source": [
    "Yearlydfs = yearbaseDFs(PEISBaseData, years =[2011,2012,2013,2014,2015,2016,2017,2018,2019,2020])\n",
    "PEISBaseData = CalPEISpoints(Yearlydfs)"
   ]
  },
  {
   "cell_type": "code",
   "execution_count": 7,
   "metadata": {},
   "outputs": [
    {
     "data": {
      "text/html": [
       "<div>\n",
       "<style scoped>\n",
       "    .dataframe tbody tr th:only-of-type {\n",
       "        vertical-align: middle;\n",
       "    }\n",
       "\n",
       "    .dataframe tbody tr th {\n",
       "        vertical-align: top;\n",
       "    }\n",
       "\n",
       "    .dataframe thead th {\n",
       "        text-align: right;\n",
       "    }\n",
       "</style>\n",
       "<table border=\"1\" class=\"dataframe\">\n",
       "  <thead>\n",
       "    <tr style=\"text-align: right;\">\n",
       "      <th></th>\n",
       "      <th>index</th>\n",
       "      <th>Name</th>\n",
       "      <th>회계년</th>\n",
       "      <th>Symbol</th>\n",
       "      <th>총자산(천원)</th>\n",
       "      <th>총자산(평균)(천원)</th>\n",
       "      <th>영업이익(천원)</th>\n",
       "      <th>매출원가(천원)</th>\n",
       "      <th>판매비와관리비(천원)</th>\n",
       "      <th>금융원가(비영업)(천원)</th>\n",
       "      <th>...</th>\n",
       "      <th>deltaATO</th>\n",
       "      <th>SGAdeltasale&gt;0</th>\n",
       "      <th>SGAdeltasale&lt;0</th>\n",
       "      <th>GNOAPEISpoint</th>\n",
       "      <th>deltaATOPEISpoint</th>\n",
       "      <th>deltaGM2PEISpoint</th>\n",
       "      <th>deltaACCPEISpoint</th>\n",
       "      <th>RNOAPEISpoint</th>\n",
       "      <th>SGAdeltasale&gt;0PEISpoint</th>\n",
       "      <th>SGAdeltasale&lt;0PEISpoint</th>\n",
       "    </tr>\n",
       "  </thead>\n",
       "  <tbody>\n",
       "    <tr>\n",
       "      <th>0</th>\n",
       "      <td>2</td>\n",
       "      <td>현대미포조선</td>\n",
       "      <td>2012</td>\n",
       "      <td>A010620</td>\n",
       "      <td>7.722829e+09</td>\n",
       "      <td>7.773696e+09</td>\n",
       "      <td>9.399499e+07</td>\n",
       "      <td>4.056670e+09</td>\n",
       "      <td>2.646859e+08</td>\n",
       "      <td>5.530287e+07</td>\n",
       "      <td>...</td>\n",
       "      <td>-0.019214</td>\n",
       "      <td>0.000000e+00</td>\n",
       "      <td>8.129713e+07</td>\n",
       "      <td>0</td>\n",
       "      <td>0</td>\n",
       "      <td>-1</td>\n",
       "      <td>-1</td>\n",
       "      <td>0</td>\n",
       "      <td>1</td>\n",
       "      <td>1</td>\n",
       "    </tr>\n",
       "    <tr>\n",
       "      <th>1</th>\n",
       "      <td>13</td>\n",
       "      <td>현대모비스</td>\n",
       "      <td>2012</td>\n",
       "      <td>A012330</td>\n",
       "      <td>3.004700e+10</td>\n",
       "      <td>2.631132e+10</td>\n",
       "      <td>2.906385e+09</td>\n",
       "      <td>2.624484e+10</td>\n",
       "      <td>1.637799e+09</td>\n",
       "      <td>1.475890e+08</td>\n",
       "      <td>...</td>\n",
       "      <td>-0.140037</td>\n",
       "      <td>4.225326e+09</td>\n",
       "      <td>0.000000e+00</td>\n",
       "      <td>-1</td>\n",
       "      <td>-1</td>\n",
       "      <td>0</td>\n",
       "      <td>0</td>\n",
       "      <td>-1</td>\n",
       "      <td>-1</td>\n",
       "      <td>1</td>\n",
       "    </tr>\n",
       "    <tr>\n",
       "      <th>2</th>\n",
       "      <td>24</td>\n",
       "      <td>LG카드</td>\n",
       "      <td>2012</td>\n",
       "      <td>A032710</td>\n",
       "      <td>2.227992e+10</td>\n",
       "      <td>2.231840e+10</td>\n",
       "      <td>9.561310e+08</td>\n",
       "      <td>0.000000e+00</td>\n",
       "      <td>6.234020e+08</td>\n",
       "      <td>0.000000e+00</td>\n",
       "      <td>...</td>\n",
       "      <td>-0.008221</td>\n",
       "      <td>0.000000e+00</td>\n",
       "      <td>-3.353000e+07</td>\n",
       "      <td>1</td>\n",
       "      <td>0</td>\n",
       "      <td>0</td>\n",
       "      <td>-1</td>\n",
       "      <td>-1</td>\n",
       "      <td>1</td>\n",
       "      <td>-1</td>\n",
       "    </tr>\n",
       "    <tr>\n",
       "      <th>3</th>\n",
       "      <td>35</td>\n",
       "      <td>현대건설</td>\n",
       "      <td>2012</td>\n",
       "      <td>A000720</td>\n",
       "      <td>1.274683e+10</td>\n",
       "      <td>1.230936e+10</td>\n",
       "      <td>7.604080e+08</td>\n",
       "      <td>1.207595e+10</td>\n",
       "      <td>4.884640e+08</td>\n",
       "      <td>1.412270e+08</td>\n",
       "      <td>...</td>\n",
       "      <td>0.041277</td>\n",
       "      <td>1.379842e+09</td>\n",
       "      <td>0.000000e+00</td>\n",
       "      <td>-1</td>\n",
       "      <td>0</td>\n",
       "      <td>0</td>\n",
       "      <td>0</td>\n",
       "      <td>0</td>\n",
       "      <td>-1</td>\n",
       "      <td>1</td>\n",
       "    </tr>\n",
       "    <tr>\n",
       "      <th>4</th>\n",
       "      <td>46</td>\n",
       "      <td>흥국화재</td>\n",
       "      <td>2012</td>\n",
       "      <td>A000540</td>\n",
       "      <td>5.875041e+09</td>\n",
       "      <td>5.244110e+09</td>\n",
       "      <td>6.043900e+07</td>\n",
       "      <td>1.032115e+09</td>\n",
       "      <td>5.357670e+08</td>\n",
       "      <td>0.000000e+00</td>\n",
       "      <td>...</td>\n",
       "      <td>-0.065876</td>\n",
       "      <td>9.400400e+07</td>\n",
       "      <td>0.000000e+00</td>\n",
       "      <td>1</td>\n",
       "      <td>0</td>\n",
       "      <td>0</td>\n",
       "      <td>1</td>\n",
       "      <td>-1</td>\n",
       "      <td>0</td>\n",
       "      <td>1</td>\n",
       "    </tr>\n",
       "    <tr>\n",
       "      <th>...</th>\n",
       "      <td>...</td>\n",
       "      <td>...</td>\n",
       "      <td>...</td>\n",
       "      <td>...</td>\n",
       "      <td>...</td>\n",
       "      <td>...</td>\n",
       "      <td>...</td>\n",
       "      <td>...</td>\n",
       "      <td>...</td>\n",
       "      <td>...</td>\n",
       "      <td>...</td>\n",
       "      <td>...</td>\n",
       "      <td>...</td>\n",
       "      <td>...</td>\n",
       "      <td>...</td>\n",
       "      <td>...</td>\n",
       "      <td>...</td>\n",
       "      <td>...</td>\n",
       "      <td>...</td>\n",
       "      <td>...</td>\n",
       "      <td>...</td>\n",
       "    </tr>\n",
       "    <tr>\n",
       "      <th>805</th>\n",
       "      <td>8570</td>\n",
       "      <td>우진플라임</td>\n",
       "      <td>2020</td>\n",
       "      <td>A049800</td>\n",
       "      <td>2.676219e+08</td>\n",
       "      <td>2.677065e+08</td>\n",
       "      <td>9.434364e+06</td>\n",
       "      <td>1.518314e+08</td>\n",
       "      <td>4.373035e+07</td>\n",
       "      <td>4.817002e+06</td>\n",
       "      <td>...</td>\n",
       "      <td>0.087096</td>\n",
       "      <td>5.428244e+06</td>\n",
       "      <td>0.000000e+00</td>\n",
       "      <td>0</td>\n",
       "      <td>1</td>\n",
       "      <td>1</td>\n",
       "      <td>0</td>\n",
       "      <td>0</td>\n",
       "      <td>0</td>\n",
       "      <td>1</td>\n",
       "    </tr>\n",
       "    <tr>\n",
       "      <th>806</th>\n",
       "      <td>8581</td>\n",
       "      <td>동성케미컬</td>\n",
       "      <td>2020</td>\n",
       "      <td>A102260</td>\n",
       "      <td>7.979441e+08</td>\n",
       "      <td>8.242313e+08</td>\n",
       "      <td>6.117365e+07</td>\n",
       "      <td>7.189081e+08</td>\n",
       "      <td>1.019691e+08</td>\n",
       "      <td>9.890572e+06</td>\n",
       "      <td>...</td>\n",
       "      <td>0.106265</td>\n",
       "      <td>2.291678e+07</td>\n",
       "      <td>0.000000e+00</td>\n",
       "      <td>0</td>\n",
       "      <td>1</td>\n",
       "      <td>0</td>\n",
       "      <td>1</td>\n",
       "      <td>0</td>\n",
       "      <td>0</td>\n",
       "      <td>1</td>\n",
       "    </tr>\n",
       "    <tr>\n",
       "      <th>807</th>\n",
       "      <td>8592</td>\n",
       "      <td>일정실업</td>\n",
       "      <td>2020</td>\n",
       "      <td>A008500</td>\n",
       "      <td>4.676853e+07</td>\n",
       "      <td>5.364374e+07</td>\n",
       "      <td>-7.342536e+06</td>\n",
       "      <td>3.346066e+07</td>\n",
       "      <td>5.212205e+06</td>\n",
       "      <td>6.455610e+05</td>\n",
       "      <td>...</td>\n",
       "      <td>0.012417</td>\n",
       "      <td>0.000000e+00</td>\n",
       "      <td>-1.745034e+07</td>\n",
       "      <td>1</td>\n",
       "      <td>0</td>\n",
       "      <td>-1</td>\n",
       "      <td>1</td>\n",
       "      <td>1</td>\n",
       "      <td>1</td>\n",
       "      <td>0</td>\n",
       "    </tr>\n",
       "    <tr>\n",
       "      <th>808</th>\n",
       "      <td>8603</td>\n",
       "      <td>사조산업</td>\n",
       "      <td>2020</td>\n",
       "      <td>A007160</td>\n",
       "      <td>1.087399e+09</td>\n",
       "      <td>1.112405e+09</td>\n",
       "      <td>2.191712e+07</td>\n",
       "      <td>5.671177e+08</td>\n",
       "      <td>3.289265e+07</td>\n",
       "      <td>1.620804e+07</td>\n",
       "      <td>...</td>\n",
       "      <td>-0.074640</td>\n",
       "      <td>0.000000e+00</td>\n",
       "      <td>-1.171827e+08</td>\n",
       "      <td>0</td>\n",
       "      <td>0</td>\n",
       "      <td>0</td>\n",
       "      <td>0</td>\n",
       "      <td>0</td>\n",
       "      <td>1</td>\n",
       "      <td>-1</td>\n",
       "    </tr>\n",
       "    <tr>\n",
       "      <th>809</th>\n",
       "      <td>8614</td>\n",
       "      <td>S-Oil</td>\n",
       "      <td>2020</td>\n",
       "      <td>A010950</td>\n",
       "      <td>1.569051e+10</td>\n",
       "      <td>1.601196e+10</td>\n",
       "      <td>-1.099146e+09</td>\n",
       "      <td>1.736620e+10</td>\n",
       "      <td>5.626230e+08</td>\n",
       "      <td>4.526150e+08</td>\n",
       "      <td>...</td>\n",
       "      <td>-0.420912</td>\n",
       "      <td>0.000000e+00</td>\n",
       "      <td>-6.045269e+09</td>\n",
       "      <td>-1</td>\n",
       "      <td>-1</td>\n",
       "      <td>-1</td>\n",
       "      <td>1</td>\n",
       "      <td>1</td>\n",
       "      <td>1</td>\n",
       "      <td>-1</td>\n",
       "    </tr>\n",
       "  </tbody>\n",
       "</table>\n",
       "<p>7086 rows × 50 columns</p>\n",
       "</div>"
      ],
      "text/plain": [
       "     index    Name   회계년   Symbol       총자산(천원)   총자산(평균)(천원)      영업이익(천원)  \\\n",
       "0        2  현대미포조선  2012  A010620  7.722829e+09  7.773696e+09  9.399499e+07   \n",
       "1       13   현대모비스  2012  A012330  3.004700e+10  2.631132e+10  2.906385e+09   \n",
       "2       24    LG카드  2012  A032710  2.227992e+10  2.231840e+10  9.561310e+08   \n",
       "3       35    현대건설  2012  A000720  1.274683e+10  1.230936e+10  7.604080e+08   \n",
       "4       46    흥국화재  2012  A000540  5.875041e+09  5.244110e+09  6.043900e+07   \n",
       "..     ...     ...   ...      ...           ...           ...           ...   \n",
       "805   8570   우진플라임  2020  A049800  2.676219e+08  2.677065e+08  9.434364e+06   \n",
       "806   8581   동성케미컬  2020  A102260  7.979441e+08  8.242313e+08  6.117365e+07   \n",
       "807   8592    일정실업  2020  A008500  4.676853e+07  5.364374e+07 -7.342536e+06   \n",
       "808   8603    사조산업  2020  A007160  1.087399e+09  1.112405e+09  2.191712e+07   \n",
       "809   8614   S-Oil  2020  A010950  1.569051e+10  1.601196e+10 -1.099146e+09   \n",
       "\n",
       "         매출원가(천원)   판매비와관리비(천원)  금융원가(비영업)(천원)  ...  deltaATO  SGAdeltasale>0  \\\n",
       "0    4.056670e+09  2.646859e+08   5.530287e+07  ... -0.019214    0.000000e+00   \n",
       "1    2.624484e+10  1.637799e+09   1.475890e+08  ... -0.140037    4.225326e+09   \n",
       "2    0.000000e+00  6.234020e+08   0.000000e+00  ... -0.008221    0.000000e+00   \n",
       "3    1.207595e+10  4.884640e+08   1.412270e+08  ...  0.041277    1.379842e+09   \n",
       "4    1.032115e+09  5.357670e+08   0.000000e+00  ... -0.065876    9.400400e+07   \n",
       "..            ...           ...            ...  ...       ...             ...   \n",
       "805  1.518314e+08  4.373035e+07   4.817002e+06  ...  0.087096    5.428244e+06   \n",
       "806  7.189081e+08  1.019691e+08   9.890572e+06  ...  0.106265    2.291678e+07   \n",
       "807  3.346066e+07  5.212205e+06   6.455610e+05  ...  0.012417    0.000000e+00   \n",
       "808  5.671177e+08  3.289265e+07   1.620804e+07  ... -0.074640    0.000000e+00   \n",
       "809  1.736620e+10  5.626230e+08   4.526150e+08  ... -0.420912    0.000000e+00   \n",
       "\n",
       "     SGAdeltasale<0  GNOAPEISpoint  deltaATOPEISpoint  deltaGM2PEISpoint  \\\n",
       "0      8.129713e+07              0                  0                 -1   \n",
       "1      0.000000e+00             -1                 -1                  0   \n",
       "2     -3.353000e+07              1                  0                  0   \n",
       "3      0.000000e+00             -1                  0                  0   \n",
       "4      0.000000e+00              1                  0                  0   \n",
       "..              ...            ...                ...                ...   \n",
       "805    0.000000e+00              0                  1                  1   \n",
       "806    0.000000e+00              0                  1                  0   \n",
       "807   -1.745034e+07              1                  0                 -1   \n",
       "808   -1.171827e+08              0                  0                  0   \n",
       "809   -6.045269e+09             -1                 -1                 -1   \n",
       "\n",
       "     deltaACCPEISpoint  RNOAPEISpoint  SGAdeltasale>0PEISpoint  \\\n",
       "0                   -1              0                        1   \n",
       "1                    0             -1                       -1   \n",
       "2                   -1             -1                        1   \n",
       "3                    0              0                       -1   \n",
       "4                    1             -1                        0   \n",
       "..                 ...            ...                      ...   \n",
       "805                  0              0                        0   \n",
       "806                  1              0                        0   \n",
       "807                  1              1                        1   \n",
       "808                  0              0                        1   \n",
       "809                  1              1                        1   \n",
       "\n",
       "     SGAdeltasale<0PEISpoint  \n",
       "0                          1  \n",
       "1                          1  \n",
       "2                         -1  \n",
       "3                          1  \n",
       "4                          1  \n",
       "..                       ...  \n",
       "805                        1  \n",
       "806                        1  \n",
       "807                        0  \n",
       "808                       -1  \n",
       "809                       -1  \n",
       "\n",
       "[7086 rows x 50 columns]"
      ]
     },
     "execution_count": 7,
     "metadata": {},
     "output_type": "execute_result"
    }
   ],
   "source": [
    "PEISBaseData"
   ]
  },
  {
   "cell_type": "markdown",
   "metadata": {},
   "source": [
    "# 3. PEIS 점수 구하기 (단순 행 sum)"
   ]
  },
  {
   "cell_type": "code",
   "execution_count": 8,
   "metadata": {},
   "outputs": [],
   "source": [
    "PEISBaseData = CalPEIS(PEISBaseData)"
   ]
  },
  {
   "cell_type": "markdown",
   "metadata": {},
   "source": [
    "# 4. 년도 별 포트폴리오 구하기 위해 년도 별로 나누기"
   ]
  },
  {
   "cell_type": "code",
   "execution_count": 9,
   "metadata": {},
   "outputs": [],
   "source": [
    "dfs = yearbaseDFs(PEISBaseData, years = [2011,2012,2013,2014,2015,2016,2017,2018,2019,2020])"
   ]
  },
  {
   "cell_type": "markdown",
   "metadata": {},
   "source": [
    "## 5. 조건 & 년도별로 포트폴리오 수익률 구하기 (equally weight)"
   ]
  },
  {
   "cell_type": "code",
   "execution_count": 10,
   "metadata": {},
   "outputs": [
    {
     "data": {
      "text/plain": [
       "0.12086963609933053"
      ]
     },
     "execution_count": 10,
     "metadata": {},
     "output_type": "execute_result"
    }
   ],
   "source": [
    "PEISbuyport = Upper20Port(dfs,\"valPEIS\")\n",
    "np.mean(PEISbuyport)"
   ]
  },
  {
   "cell_type": "markdown",
   "metadata": {},
   "source": [
    "# 6. 엑셀로 보내기 "
   ]
  },
  {
   "cell_type": "code",
   "execution_count": 11,
   "metadata": {},
   "outputs": [],
   "source": [
    "writer = pd.ExcelWriter('Result/Compute_PEIS.xlsx', engine='xlsxwriter')"
   ]
  },
  {
   "cell_type": "code",
   "execution_count": 12,
   "metadata": {},
   "outputs": [],
   "source": [
    "collist=['ADJprice', 'Consensus',\\\n",
    "       'deltaprice', 'CountNull', 'NetAsset', 'deltaACC', 'RNOA', 'GNOA',\\\n",
    "       'deltaGNOA', 'SGA', 'deltaSGA', 'GM', 'deltaGM1', 'deltasale',\\\n",
    "       'deltaGM2', 'ATO', 'deltaATO', 'SGAdeltasale>0', 'SGAdeltasale<0',\\\n",
    "       'GNOAPEISpoint', 'deltaATOPEISpoint', 'deltaGM2PEISpoint',\\\n",
    "       'deltaACCPEISpoint', 'RNOAPEISpoint', 'SGAdeltasale>0PEISpoint',\\\n",
    "       'SGAdeltasale<0PEISpoint', 'valPEIS']"
   ]
  },
  {
   "cell_type": "code",
   "execution_count": 13,
   "metadata": {},
   "outputs": [],
   "source": [
    "Computed = PEISBaseData[collist]"
   ]
  },
  {
   "cell_type": "code",
   "execution_count": 14,
   "metadata": {},
   "outputs": [],
   "source": [
    "PEISBaseData.to_excel(writer,sheet_name = 'All_data')\n",
    "Computed.to_excel(writer,sheet_name = 'Computed')"
   ]
  },
  {
   "cell_type": "code",
   "execution_count": 15,
   "metadata": {},
   "outputs": [],
   "source": [
    "writer.save()"
   ]
  },
  {
   "cell_type": "markdown",
   "metadata": {},
   "source": [
    "# 이 아래에서는 이것저것 실험"
   ]
  },
  {
   "cell_type": "code",
   "execution_count": null,
   "metadata": {},
   "outputs": [],
   "source": []
  }
 ],
 "metadata": {
  "kernelspec": {
   "display_name": "Python 3",
   "language": "python",
   "name": "python3"
  },
  "language_info": {
   "codemirror_mode": {
    "name": "ipython",
    "version": 3
   },
   "file_extension": ".py",
   "mimetype": "text/x-python",
   "name": "python",
   "nbconvert_exporter": "python",
   "pygments_lexer": "ipython3",
   "version": "3.7.6"
  }
 },
 "nbformat": 4,
 "nbformat_minor": 4
}
