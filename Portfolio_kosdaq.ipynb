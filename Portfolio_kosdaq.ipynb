{
 "cells": [
  {
   "cell_type": "markdown",
   "metadata": {},
   "source": [
    "# 포트폴리오 구성에사용되는 항목만 인덱싱\n",
    "0. 인덱스 때기 \n",
    "1. 시가총액 (AR)\n",
    "2. 투자시 수익률 (deltaprofit)\n",
    "3. PEIS 점수들 --> 이거는 따로 빼주는 게 좋을 것 같기도 \n",
    "4. 컨센의견\n",
    "\n",
    "---------\n",
    "* 코스닥 코스피 기간 수익률도 가져오기"
   ]
  },
  {
   "cell_type": "markdown",
   "metadata": {},
   "source": [
    "# 코스피"
   ]
  },
  {
   "cell_type": "markdown",
   "metadata": {},
   "source": [
    "# Table7_1"
   ]
  },
  {
   "cell_type": "code",
   "execution_count": 21,
   "metadata": {},
   "outputs": [],
   "source": [
    "import pandas as pd\n",
    "import numpy as np\n",
    "from Fin import *\n",
    "from Stat import *\n",
    "from scipy import stats\n",
    "import warnings\n",
    "\n",
    "warnings.filterwarnings(action='ignore')"
   ]
  },
  {
   "cell_type": "code",
   "execution_count": 22,
   "metadata": {},
   "outputs": [],
   "source": [
    "Alldata = pd.read_excel(\"Data/kosdaq/Alldata.xlsx\")\n",
    "UseOnlyPort = Alldata[['회계년','Name','시가총액','consen_cut','CompuConsen','valPEIS','deltaprice']]"
   ]
  },
  {
   "cell_type": "markdown",
   "metadata": {},
   "source": [
    "# 컨센안에서 PEIS별 포트폴리오"
   ]
  },
  {
   "cell_type": "code",
   "execution_count": 23,
   "metadata": {
    "scrolled": false
   },
   "outputs": [],
   "source": [
    "ConsenPorts = MakePortbyCriteria(UseOnlyPort, 'consen_cut')\n",
    "for i in ConsenPorts:\n",
    "    i.ConsenPEIS()"
   ]
  },
  {
   "cell_type": "markdown",
   "metadata": {},
   "source": [
    "# Consen전체랑 Consen groupby PEIS"
   ]
  },
  {
   "cell_type": "code",
   "execution_count": 24,
   "metadata": {},
   "outputs": [],
   "source": [
    "AllDataby_consen = AllTable7(ConsenPorts)\n",
    "ConsenPEIS_table = ConsenPEISTable7(ConsenPorts)"
   ]
  },
  {
   "cell_type": "code",
   "execution_count": 25,
   "metadata": {},
   "outputs": [
    {
     "data": {
      "text/html": [
       "<div>\n",
       "<style scoped>\n",
       "    .dataframe tbody tr th:only-of-type {\n",
       "        vertical-align: middle;\n",
       "    }\n",
       "\n",
       "    .dataframe tbody tr th {\n",
       "        vertical-align: top;\n",
       "    }\n",
       "\n",
       "    .dataframe thead th {\n",
       "        text-align: right;\n",
       "    }\n",
       "</style>\n",
       "<table border=\"1\" class=\"dataframe\">\n",
       "  <thead>\n",
       "    <tr style=\"text-align: right;\">\n",
       "      <th></th>\n",
       "      <th></th>\n",
       "      <th>ALL</th>\n",
       "      <th>PEIS1</th>\n",
       "      <th>PEIS2</th>\n",
       "      <th>PEIS3</th>\n",
       "      <th>PEIS4</th>\n",
       "      <th>PEIS5</th>\n",
       "      <th>PEIS 5 - 1</th>\n",
       "    </tr>\n",
       "  </thead>\n",
       "  <tbody>\n",
       "    <tr>\n",
       "      <th rowspan=\"3\" valign=\"top\">0</th>\n",
       "      <th>N</th>\n",
       "      <td>9073.00</td>\n",
       "      <td>1338.0000</td>\n",
       "      <td>1956.0000</td>\n",
       "      <td>0.0000</td>\n",
       "      <td>2538.0000</td>\n",
       "      <td>3241.0000</td>\n",
       "      <td></td>\n",
       "    </tr>\n",
       "    <tr>\n",
       "      <th>CR (%)</th>\n",
       "      <td>0.18</td>\n",
       "      <td>0.1522</td>\n",
       "      <td>0.1564</td>\n",
       "      <td>0.0000</td>\n",
       "      <td>0.2087</td>\n",
       "      <td>0.1830</td>\n",
       "      <td></td>\n",
       "    </tr>\n",
       "    <tr>\n",
       "      <th>AR (%)</th>\n",
       "      <td>0.16</td>\n",
       "      <td>0.1528</td>\n",
       "      <td>0.1784</td>\n",
       "      <td>0.0000</td>\n",
       "      <td>0.1905</td>\n",
       "      <td>0.1276</td>\n",
       "      <td>-0.0252</td>\n",
       "    </tr>\n",
       "    <tr>\n",
       "      <th rowspan=\"3\" valign=\"top\">1</th>\n",
       "      <th>N</th>\n",
       "      <td>5.00</td>\n",
       "      <td>1.0000</td>\n",
       "      <td>1.0000</td>\n",
       "      <td>1.0000</td>\n",
       "      <td>0.0000</td>\n",
       "      <td>2.0000</td>\n",
       "      <td></td>\n",
       "    </tr>\n",
       "    <tr>\n",
       "      <th>CR (%)</th>\n",
       "      <td>-0.07</td>\n",
       "      <td>-0.3629</td>\n",
       "      <td>-0.3970</td>\n",
       "      <td>0.2077</td>\n",
       "      <td>0.0000</td>\n",
       "      <td>0.1024</td>\n",
       "      <td></td>\n",
       "    </tr>\n",
       "    <tr>\n",
       "      <th>AR (%)</th>\n",
       "      <td>0.33</td>\n",
       "      <td>0.0000</td>\n",
       "      <td>0.0000</td>\n",
       "      <td>0.0000</td>\n",
       "      <td>0.0000</td>\n",
       "      <td>-0.3076</td>\n",
       "      <td>-0.3076</td>\n",
       "    </tr>\n",
       "    <tr>\n",
       "      <th rowspan=\"3\" valign=\"top\">2</th>\n",
       "      <th>N</th>\n",
       "      <td>115.00</td>\n",
       "      <td>11.0000</td>\n",
       "      <td>13.0000</td>\n",
       "      <td>37.0000</td>\n",
       "      <td>0.0000</td>\n",
       "      <td>54.0000</td>\n",
       "      <td></td>\n",
       "    </tr>\n",
       "    <tr>\n",
       "      <th>CR (%)</th>\n",
       "      <td>0.14</td>\n",
       "      <td>0.1904</td>\n",
       "      <td>-0.0047</td>\n",
       "      <td>0.1772</td>\n",
       "      <td>0.0000</td>\n",
       "      <td>0.1445</td>\n",
       "      <td></td>\n",
       "    </tr>\n",
       "    <tr>\n",
       "      <th>AR (%)</th>\n",
       "      <td>0.10</td>\n",
       "      <td>0.2293</td>\n",
       "      <td>0.1220</td>\n",
       "      <td>0.1919</td>\n",
       "      <td>0.0000</td>\n",
       "      <td>0.0673</td>\n",
       "      <td>-0.162</td>\n",
       "    </tr>\n",
       "    <tr>\n",
       "      <th rowspan=\"3\" valign=\"top\">3</th>\n",
       "      <th>N</th>\n",
       "      <td>1760.00</td>\n",
       "      <td>324.0000</td>\n",
       "      <td>355.0000</td>\n",
       "      <td>0.0000</td>\n",
       "      <td>460.0000</td>\n",
       "      <td>621.0000</td>\n",
       "      <td></td>\n",
       "    </tr>\n",
       "    <tr>\n",
       "      <th>CR (%)</th>\n",
       "      <td>0.08</td>\n",
       "      <td>0.0791</td>\n",
       "      <td>0.1234</td>\n",
       "      <td>0.0000</td>\n",
       "      <td>0.0697</td>\n",
       "      <td>0.0637</td>\n",
       "      <td></td>\n",
       "    </tr>\n",
       "    <tr>\n",
       "      <th>AR (%)</th>\n",
       "      <td>0.09</td>\n",
       "      <td>0.1294</td>\n",
       "      <td>0.0970</td>\n",
       "      <td>0.0000</td>\n",
       "      <td>0.1539</td>\n",
       "      <td>0.0572</td>\n",
       "      <td>-0.0722</td>\n",
       "    </tr>\n",
       "    <tr>\n",
       "      <th rowspan=\"3\" valign=\"top\">4</th>\n",
       "      <th>N</th>\n",
       "      <td>17.00</td>\n",
       "      <td>2.0000</td>\n",
       "      <td>5.0000</td>\n",
       "      <td>1.0000</td>\n",
       "      <td>0.0000</td>\n",
       "      <td>9.0000</td>\n",
       "      <td></td>\n",
       "    </tr>\n",
       "    <tr>\n",
       "      <th>CR (%)</th>\n",
       "      <td>-0.04</td>\n",
       "      <td>-0.0903</td>\n",
       "      <td>-0.0299</td>\n",
       "      <td>-0.3267</td>\n",
       "      <td>0.0000</td>\n",
       "      <td>0.0013</td>\n",
       "      <td></td>\n",
       "    </tr>\n",
       "    <tr>\n",
       "      <th>AR (%)</th>\n",
       "      <td>0.03</td>\n",
       "      <td>-0.0195</td>\n",
       "      <td>-0.5150</td>\n",
       "      <td>0.0000</td>\n",
       "      <td>0.0000</td>\n",
       "      <td>0.3108</td>\n",
       "      <td>0.3303</td>\n",
       "    </tr>\n",
       "  </tbody>\n",
       "</table>\n",
       "</div>"
      ],
      "text/plain": [
       "              ALL      PEIS1      PEIS2    PEIS3      PEIS4      PEIS5  \\\n",
       "0 N       9073.00  1338.0000  1956.0000   0.0000  2538.0000  3241.0000   \n",
       "  CR (%)     0.18     0.1522     0.1564   0.0000     0.2087     0.1830   \n",
       "  AR (%)     0.16     0.1528     0.1784   0.0000     0.1905     0.1276   \n",
       "1 N          5.00     1.0000     1.0000   1.0000     0.0000     2.0000   \n",
       "  CR (%)    -0.07    -0.3629    -0.3970   0.2077     0.0000     0.1024   \n",
       "  AR (%)     0.33     0.0000     0.0000   0.0000     0.0000    -0.3076   \n",
       "2 N        115.00    11.0000    13.0000  37.0000     0.0000    54.0000   \n",
       "  CR (%)     0.14     0.1904    -0.0047   0.1772     0.0000     0.1445   \n",
       "  AR (%)     0.10     0.2293     0.1220   0.1919     0.0000     0.0673   \n",
       "3 N       1760.00   324.0000   355.0000   0.0000   460.0000   621.0000   \n",
       "  CR (%)     0.08     0.0791     0.1234   0.0000     0.0697     0.0637   \n",
       "  AR (%)     0.09     0.1294     0.0970   0.0000     0.1539     0.0572   \n",
       "4 N         17.00     2.0000     5.0000   1.0000     0.0000     9.0000   \n",
       "  CR (%)    -0.04    -0.0903    -0.0299  -0.3267     0.0000     0.0013   \n",
       "  AR (%)     0.03    -0.0195    -0.5150   0.0000     0.0000     0.3108   \n",
       "\n",
       "         PEIS 5 - 1  \n",
       "0 N                  \n",
       "  CR (%)             \n",
       "  AR (%)    -0.0252  \n",
       "1 N                  \n",
       "  CR (%)             \n",
       "  AR (%)    -0.3076  \n",
       "2 N                  \n",
       "  CR (%)             \n",
       "  AR (%)     -0.162  \n",
       "3 N                  \n",
       "  CR (%)             \n",
       "  AR (%)    -0.0722  \n",
       "4 N                  \n",
       "  CR (%)             \n",
       "  AR (%)     0.3303  "
      ]
     },
     "execution_count": 25,
     "metadata": {},
     "output_type": "execute_result"
    }
   ],
   "source": [
    "FinalForm = pd.concat([AllDataby_consen, ConsenPEIS_table], axis=1)\n",
    "FinalForm.columns = ['ALL','PEIS1','PEIS2','PEIS3','PEIS4','PEIS5']\n",
    "FinalForm['PEIS 5 - 1'] = FinalForm['PEIS5'] - FinalForm['PEIS1']\n",
    "FinalForm = FinalForm.round(4)\n",
    "FinalForm.iloc[[0,1,3,4,6,7,9,10,12,13],6] = ' '\n",
    "FinalForm"
   ]
  },
  {
   "cell_type": "code",
   "execution_count": 26,
   "metadata": {},
   "outputs": [
    {
     "name": "stdout",
     "output_type": "stream",
     "text": [
      "\n",
      "statistic : 0 , pvalue : 0.3535213\n",
      "\n",
      "\n",
      "statistic : 0 , pvalue : 0.4563008\n",
      "\n",
      "\n",
      "statistic : 1 , pvalue : 0.0474540\n",
      "\n"
     ]
    }
   ],
   "source": [
    "ttest([0,2,3], ConsenPorts)"
   ]
  },
  {
   "cell_type": "code",
   "execution_count": 27,
   "metadata": {},
   "outputs": [],
   "source": [
    "FinalForm.iloc[11,6] = str(round(FinalForm.iloc[11,6],4)) + '**'\n",
    "FinalForm.index = [ ['No consen']*3+['Sell']*3+['Hold']*3+['Buy']*3+['S_Buy']*3, ['N', 'CR (%)', 'AR (%)']*5]"
   ]
  },
  {
   "cell_type": "code",
   "execution_count": 28,
   "metadata": {},
   "outputs": [
    {
     "data": {
      "text/html": [
       "<div>\n",
       "<style scoped>\n",
       "    .dataframe tbody tr th:only-of-type {\n",
       "        vertical-align: middle;\n",
       "    }\n",
       "\n",
       "    .dataframe tbody tr th {\n",
       "        vertical-align: top;\n",
       "    }\n",
       "\n",
       "    .dataframe thead th {\n",
       "        text-align: right;\n",
       "    }\n",
       "</style>\n",
       "<table border=\"1\" class=\"dataframe\">\n",
       "  <thead>\n",
       "    <tr style=\"text-align: right;\">\n",
       "      <th></th>\n",
       "      <th></th>\n",
       "      <th>ALL</th>\n",
       "      <th>PEIS1</th>\n",
       "      <th>PEIS2</th>\n",
       "      <th>PEIS3</th>\n",
       "      <th>PEIS4</th>\n",
       "      <th>PEIS5</th>\n",
       "      <th>PEIS 5 - 1</th>\n",
       "    </tr>\n",
       "  </thead>\n",
       "  <tbody>\n",
       "    <tr>\n",
       "      <th rowspan=\"3\" valign=\"top\">No consen</th>\n",
       "      <th>N</th>\n",
       "      <td>9073.00</td>\n",
       "      <td>1338.0000</td>\n",
       "      <td>1956.0000</td>\n",
       "      <td>0.0000</td>\n",
       "      <td>2538.0000</td>\n",
       "      <td>3241.0000</td>\n",
       "      <td></td>\n",
       "    </tr>\n",
       "    <tr>\n",
       "      <th>CR (%)</th>\n",
       "      <td>0.18</td>\n",
       "      <td>0.1522</td>\n",
       "      <td>0.1564</td>\n",
       "      <td>0.0000</td>\n",
       "      <td>0.2087</td>\n",
       "      <td>0.1830</td>\n",
       "      <td></td>\n",
       "    </tr>\n",
       "    <tr>\n",
       "      <th>AR (%)</th>\n",
       "      <td>0.16</td>\n",
       "      <td>0.1528</td>\n",
       "      <td>0.1784</td>\n",
       "      <td>0.0000</td>\n",
       "      <td>0.1905</td>\n",
       "      <td>0.1276</td>\n",
       "      <td>-0.0252</td>\n",
       "    </tr>\n",
       "    <tr>\n",
       "      <th rowspan=\"3\" valign=\"top\">Sell</th>\n",
       "      <th>N</th>\n",
       "      <td>5.00</td>\n",
       "      <td>1.0000</td>\n",
       "      <td>1.0000</td>\n",
       "      <td>1.0000</td>\n",
       "      <td>0.0000</td>\n",
       "      <td>2.0000</td>\n",
       "      <td></td>\n",
       "    </tr>\n",
       "    <tr>\n",
       "      <th>CR (%)</th>\n",
       "      <td>-0.07</td>\n",
       "      <td>-0.3629</td>\n",
       "      <td>-0.3970</td>\n",
       "      <td>0.2077</td>\n",
       "      <td>0.0000</td>\n",
       "      <td>0.1024</td>\n",
       "      <td></td>\n",
       "    </tr>\n",
       "    <tr>\n",
       "      <th>AR (%)</th>\n",
       "      <td>0.33</td>\n",
       "      <td>0.0000</td>\n",
       "      <td>0.0000</td>\n",
       "      <td>0.0000</td>\n",
       "      <td>0.0000</td>\n",
       "      <td>-0.3076</td>\n",
       "      <td>-0.3076</td>\n",
       "    </tr>\n",
       "    <tr>\n",
       "      <th rowspan=\"3\" valign=\"top\">Hold</th>\n",
       "      <th>N</th>\n",
       "      <td>115.00</td>\n",
       "      <td>11.0000</td>\n",
       "      <td>13.0000</td>\n",
       "      <td>37.0000</td>\n",
       "      <td>0.0000</td>\n",
       "      <td>54.0000</td>\n",
       "      <td></td>\n",
       "    </tr>\n",
       "    <tr>\n",
       "      <th>CR (%)</th>\n",
       "      <td>0.14</td>\n",
       "      <td>0.1904</td>\n",
       "      <td>-0.0047</td>\n",
       "      <td>0.1772</td>\n",
       "      <td>0.0000</td>\n",
       "      <td>0.1445</td>\n",
       "      <td></td>\n",
       "    </tr>\n",
       "    <tr>\n",
       "      <th>AR (%)</th>\n",
       "      <td>0.10</td>\n",
       "      <td>0.2293</td>\n",
       "      <td>0.1220</td>\n",
       "      <td>0.1919</td>\n",
       "      <td>0.0000</td>\n",
       "      <td>0.0673</td>\n",
       "      <td>-0.162</td>\n",
       "    </tr>\n",
       "    <tr>\n",
       "      <th rowspan=\"3\" valign=\"top\">Buy</th>\n",
       "      <th>N</th>\n",
       "      <td>1760.00</td>\n",
       "      <td>324.0000</td>\n",
       "      <td>355.0000</td>\n",
       "      <td>0.0000</td>\n",
       "      <td>460.0000</td>\n",
       "      <td>621.0000</td>\n",
       "      <td></td>\n",
       "    </tr>\n",
       "    <tr>\n",
       "      <th>CR (%)</th>\n",
       "      <td>0.08</td>\n",
       "      <td>0.0791</td>\n",
       "      <td>0.1234</td>\n",
       "      <td>0.0000</td>\n",
       "      <td>0.0697</td>\n",
       "      <td>0.0637</td>\n",
       "      <td></td>\n",
       "    </tr>\n",
       "    <tr>\n",
       "      <th>AR (%)</th>\n",
       "      <td>0.09</td>\n",
       "      <td>0.1294</td>\n",
       "      <td>0.0970</td>\n",
       "      <td>0.0000</td>\n",
       "      <td>0.1539</td>\n",
       "      <td>0.0572</td>\n",
       "      <td>-0.0722**</td>\n",
       "    </tr>\n",
       "    <tr>\n",
       "      <th rowspan=\"3\" valign=\"top\">S_Buy</th>\n",
       "      <th>N</th>\n",
       "      <td>17.00</td>\n",
       "      <td>2.0000</td>\n",
       "      <td>5.0000</td>\n",
       "      <td>1.0000</td>\n",
       "      <td>0.0000</td>\n",
       "      <td>9.0000</td>\n",
       "      <td></td>\n",
       "    </tr>\n",
       "    <tr>\n",
       "      <th>CR (%)</th>\n",
       "      <td>-0.04</td>\n",
       "      <td>-0.0903</td>\n",
       "      <td>-0.0299</td>\n",
       "      <td>-0.3267</td>\n",
       "      <td>0.0000</td>\n",
       "      <td>0.0013</td>\n",
       "      <td></td>\n",
       "    </tr>\n",
       "    <tr>\n",
       "      <th>AR (%)</th>\n",
       "      <td>0.03</td>\n",
       "      <td>-0.0195</td>\n",
       "      <td>-0.5150</td>\n",
       "      <td>0.0000</td>\n",
       "      <td>0.0000</td>\n",
       "      <td>0.3108</td>\n",
       "      <td>0.3303</td>\n",
       "    </tr>\n",
       "  </tbody>\n",
       "</table>\n",
       "</div>"
      ],
      "text/plain": [
       "                      ALL      PEIS1      PEIS2    PEIS3      PEIS4  \\\n",
       "No consen N       9073.00  1338.0000  1956.0000   0.0000  2538.0000   \n",
       "          CR (%)     0.18     0.1522     0.1564   0.0000     0.2087   \n",
       "          AR (%)     0.16     0.1528     0.1784   0.0000     0.1905   \n",
       "Sell      N          5.00     1.0000     1.0000   1.0000     0.0000   \n",
       "          CR (%)    -0.07    -0.3629    -0.3970   0.2077     0.0000   \n",
       "          AR (%)     0.33     0.0000     0.0000   0.0000     0.0000   \n",
       "Hold      N        115.00    11.0000    13.0000  37.0000     0.0000   \n",
       "          CR (%)     0.14     0.1904    -0.0047   0.1772     0.0000   \n",
       "          AR (%)     0.10     0.2293     0.1220   0.1919     0.0000   \n",
       "Buy       N       1760.00   324.0000   355.0000   0.0000   460.0000   \n",
       "          CR (%)     0.08     0.0791     0.1234   0.0000     0.0697   \n",
       "          AR (%)     0.09     0.1294     0.0970   0.0000     0.1539   \n",
       "S_Buy     N         17.00     2.0000     5.0000   1.0000     0.0000   \n",
       "          CR (%)    -0.04    -0.0903    -0.0299  -0.3267     0.0000   \n",
       "          AR (%)     0.03    -0.0195    -0.5150   0.0000     0.0000   \n",
       "\n",
       "                      PEIS5 PEIS 5 - 1  \n",
       "No consen N       3241.0000             \n",
       "          CR (%)     0.1830             \n",
       "          AR (%)     0.1276    -0.0252  \n",
       "Sell      N          2.0000             \n",
       "          CR (%)     0.1024             \n",
       "          AR (%)    -0.3076    -0.3076  \n",
       "Hold      N         54.0000             \n",
       "          CR (%)     0.1445             \n",
       "          AR (%)     0.0673     -0.162  \n",
       "Buy       N        621.0000             \n",
       "          CR (%)     0.0637             \n",
       "          AR (%)     0.0572  -0.0722**  \n",
       "S_Buy     N          9.0000             \n",
       "          CR (%)     0.0013             \n",
       "          AR (%)     0.3108     0.3303  "
      ]
     },
     "execution_count": 28,
     "metadata": {},
     "output_type": "execute_result"
    }
   ],
   "source": [
    "FinalForm.to_excel('Data/kosdaq/table7_1.xlsx')\n",
    "FinalForm"
   ]
  },
  {
   "cell_type": "markdown",
   "metadata": {},
   "source": [
    "# Table7_2"
   ]
  },
  {
   "cell_type": "markdown",
   "metadata": {},
   "source": [
    "# PEIS별 포트폴리오_quantile 20씩 끊음 & 컨센별 포트폴리오"
   ]
  },
  {
   "cell_type": "code",
   "execution_count": 29,
   "metadata": {
    "scrolled": true
   },
   "outputs": [],
   "source": [
    "PEISPorts = MakePortbyPEIS(UseOnlyPort)\n",
    "ConsenPorts = MakePortbyCriteria(UseOnlyPort, 'consen_cut')"
   ]
  },
  {
   "cell_type": "markdown",
   "metadata": {},
   "source": [
    "# 노가다로 끼워맞춤.. 귀찮으니깐 마지막에.."
   ]
  },
  {
   "cell_type": "code",
   "execution_count": 58,
   "metadata": {},
   "outputs": [],
   "source": [
    "# 이거는 롱숏포폴 합친거 할때 쓰기\n",
    "x, y = PEISPorts[4].ARreturnlist,PEISPorts[0].ARreturnlist\n",
    "#x = ConsenPorts[3].ARreturnlist.tolist() + ConsenPorts[4].ARreturnlist.tolist()"
   ]
  },
  {
   "cell_type": "code",
   "execution_count": 59,
   "metadata": {},
   "outputs": [
    {
     "name": "stdout",
     "output_type": "stream",
     "text": [
      "LeveneResult -- stat : 2.405509, p-value : 0.120966 \n",
      "\n",
      "True\n",
      "\n",
      "statistic : 1 , pvalue : 0.0595443\n",
      "\n"
     ]
    }
   ],
   "source": [
    "_stat,_pvalue = stats.levene(x,y)\n",
    "print(\"LeveneResult -- stat : %3f, p-value : %3f \\n\" %(_stat, _pvalue))\n",
    "if _pvalue < 0.05:\n",
    "    equal_Var = False\n",
    "else :\n",
    "    equal_Var = True\n",
    "print(equal_Var)\n",
    "statistic , pvalue = stats.ttest_ind(x,y, equal_var= equal_Var)\n",
    "print(\"\\nstatistic : %d , pvalue : %.7f\\n\" % (statistic, pvalue))"
   ]
  },
  {
   "cell_type": "code",
   "execution_count": 55,
   "metadata": {},
   "outputs": [
    {
     "data": {
      "text/plain": [
       "1694"
      ]
     },
     "execution_count": 55,
     "metadata": {},
     "output_type": "execute_result"
    }
   ],
   "source": [
    "PEISPorts[0].counts"
   ]
  },
  {
   "cell_type": "code",
   "execution_count": 61,
   "metadata": {},
   "outputs": [
    {
     "data": {
      "text/plain": [
       "0.09219582177210653"
      ]
     },
     "execution_count": 61,
     "metadata": {},
     "output_type": "execute_result"
    }
   ],
   "source": [
    "ConsenPorts[3].AR"
   ]
  },
  {
   "cell_type": "code",
   "execution_count": 43,
   "metadata": {},
   "outputs": [],
   "source": [
    "x = ConsenPorts[3].ARreturnlist.tolist() + ConsenPorts[4].ARreturnlist.tolist()"
   ]
  },
  {
   "cell_type": "code",
   "execution_count": null,
   "metadata": {},
   "outputs": [],
   "source": []
  }
 ],
 "metadata": {
  "kernelspec": {
   "display_name": "Python 3",
   "language": "python",
   "name": "python3"
  },
  "language_info": {
   "codemirror_mode": {
    "name": "ipython",
    "version": 3
   },
   "file_extension": ".py",
   "mimetype": "text/x-python",
   "name": "python",
   "nbconvert_exporter": "python",
   "pygments_lexer": "ipython3",
   "version": "3.7.6"
  }
 },
 "nbformat": 4,
 "nbformat_minor": 4
}
